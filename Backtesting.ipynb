{
 "cells": [
  {
   "cell_type": "markdown",
   "source": [
    "## Bollinger Bands\n",
    "following tutorial https://medium.com/@jesso1908joy/implementing-bollinger-band-strategy-with-trailing-stoploss-in-backtrader-950864f25c70"
   ],
   "metadata": {
    "collapsed": false
   }
  },
  {
   "cell_type": "code",
   "execution_count": null,
   "outputs": [],
   "source": [
    "import backtrader as bt\n",
    "import pandas as pd\n",
    "import numpy as np\n",
    "from backtrader.indicators import BollingerBands"
   ],
   "metadata": {
    "collapsed": false
   }
  },
  {
   "cell_type": "code",
   "execution_count": null,
   "outputs": [],
   "source": [],
   "metadata": {
    "collapsed": false
   }
  },
  {
   "cell_type": "code",
   "execution_count": null,
   "outputs": [],
   "source": [
    "class BollingerBandStrategy(bt.Strategy):\n",
    "    params = ((\"period\", 20), (\"stddev\", 2))\n",
    "\n",
    "    def __init__(self):\n",
    "        self.bb = BollingerBands(period=self.params.period, stddev=self.params.stddev)"
   ],
   "metadata": {
    "collapsed": false
   }
  },
  {
   "cell_type": "code",
   "execution_count": null,
   "outputs": [],
   "source": [
    "    def next(self):\n",
    "        if self.data.close[0] > self.bb.top[0]:\n",
    "            self.buy()\n",
    "        elif self.data.close[0] < self.bb.bottom[0]:\n",
    "            self.sell()"
   ],
   "metadata": {
    "collapsed": false
   }
  },
  {
   "cell_type": "code",
   "execution_count": null,
   "outputs": [],
   "source": [
    "    def notify_order(self, order):\n",
    "        if order.status in [order.Submitted, order.Accepted]:\n",
    "            return\n",
    "        if order.status in [order.Completed]:\n",
    "            if order.isbuy():\n",
    "                self.buyprice = order.executed.price\n",
    "                self.buycomm = order.executed.value\n",
    "                self.stop_trail(self.data.close[0] * 0.95"
   ],
   "metadata": {
    "collapsed": false
   }
  },
  {
   "cell_type": "code",
   "execution_count": null,
   "outputs": [],
   "source": [
    "data = bt.feeds.PandasData(dataname=df) # hier unser dataframe nehmen\n",
    "cerebro = bt.Cerebro()"
   ],
   "metadata": {
    "collapsed": false
   }
  },
  {
   "cell_type": "code",
   "execution_count": null,
   "outputs": [],
   "source": [
    "cerebro.adddata(data)\n",
    "cerebro.addstrategy(BollingerBandStrategy"
   ],
   "metadata": {
    "collapsed": false
   }
  },
  {
   "cell_type": "code",
   "execution_count": null,
   "outputs": [],
   "source": [
    "result = cerebro.run()"
   ],
   "metadata": {
    "collapsed": false
   }
  },
  {
   "cell_type": "code",
   "execution_count": null,
   "outputs": [],
   "source": [
    "cerebro.run()\n",
    "strat = result[0]\n",
    "print(f'Final Portfolio Value: {strat.analyzers.tradeanalyzer.get_analysis()[\"final_value\"]}')"
   ],
   "metadata": {
    "collapsed": false
   }
  }
 ],
 "metadata": {
  "kernelspec": {
   "display_name": "Python 3",
   "language": "python",
   "name": "python3"
  },
  "language_info": {
   "codemirror_mode": {
    "name": "ipython",
    "version": 2
   },
   "file_extension": ".py",
   "mimetype": "text/x-python",
   "name": "python",
   "nbconvert_exporter": "python",
   "pygments_lexer": "ipython2",
   "version": "2.7.6"
  }
 },
 "nbformat": 4,
 "nbformat_minor": 0
}
