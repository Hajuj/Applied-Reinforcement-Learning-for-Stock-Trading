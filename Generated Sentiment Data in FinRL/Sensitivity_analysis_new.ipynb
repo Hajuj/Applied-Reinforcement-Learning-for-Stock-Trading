{
 "cells": [
  {
   "cell_type": "code",
   "execution_count": 1,
   "outputs": [
    {
     "name": "stderr",
     "output_type": "stream",
     "text": [
      "C:\\Users\\potap\\FinARL\\venv_10\\lib\\site-packages\\tensorflow_addons\\utils\\tfa_eol_msg.py:23: UserWarning: \n",
      "\n",
      "TensorFlow Addons (TFA) has ended development and introduction of new features.\n",
      "TFA has entered a minimal maintenance and release mode until a planned end of life in May 2024.\n",
      "Please modify downstream libraries to take dependencies from other repositories in our TensorFlow community (e.g. Keras, Keras-CV, and Keras-NLP). \n",
      "\n",
      "For more information see: https://github.com/tensorflow/addons/issues/2807 \n",
      "\n",
      "  warnings.warn(\n"
     ]
    }
   ],
   "source": [
    "import torch\n",
    "import onnx\n",
    "import onnx_tf.backend\n",
    "import tensorflow as tf\n",
    "import numpy as np\n",
    "import pandas as pd\n",
    "import matplotlib.pyplot as plt"
   ],
   "metadata": {
    "collapsed": false,
    "ExecuteTime": {
     "end_time": "2023-09-09T19:36:49.288921Z",
     "start_time": "2023-09-09T19:36:41.670859800Z"
    }
   },
   "id": "df8343efa58b5de1"
  },
  {
   "cell_type": "code",
   "execution_count": 2,
   "outputs": [],
   "source": [
    "from finrl.agents.stablebaselines3.models import DRLAgent\n",
    "from finrl.config import INDICATORS, TRAINED_MODEL_DIR\n",
    "from finrl.main import check_and_make_directories\n",
    "from Envs.env_stocktrading import StockTradingEnv\n",
    "\n",
    "check_and_make_directories([TRAINED_MODEL_DIR])"
   ],
   "metadata": {
    "collapsed": false,
    "ExecuteTime": {
     "end_time": "2023-09-09T19:36:51.974575300Z",
     "start_time": "2023-09-09T19:36:49.232906Z"
    }
   },
   "id": "f6a5c4e1cdce7d42"
  },
  {
   "cell_type": "markdown",
   "source": [
    "## Read data\n",
    "\n",
    "We first read the .csv file of our training data into dataframe."
   ],
   "metadata": {
    "collapsed": false
   },
   "id": "21345331be39ce78"
  },
  {
   "cell_type": "code",
   "execution_count": 31,
   "outputs": [],
   "source": [
    "train = pd.read_csv(r\"C:\\Users\\potap\\OneDrive\\Desktop\\hourly\\hourly_training_data.csv\")\n",
    "\n",
    "# If you are not using the data generated from part 1 of this tutorial, make sure \n",
    "# it has the columns and index in the form that could be make into the environment. \n",
    "# Then you can comment and skip the following two lines.\n",
    "def prep(train):\n",
    "    # Sort the DataFrame by the 'date' column\n",
    "    train = train.sort_values(by='date')\n",
    "\n",
    "    # Create a mapping of unique dates to their corresponding index\n",
    "    date_mapping = {date: idx for idx, date in enumerate(train['date'].unique())}\n",
    "\n",
    "    # Map the 'date' column to the date_mapping to get the new index\n",
    "    train['index'] = train['date'].map(date_mapping)\n",
    "\n",
    "    # Set the new index for the DataFrame\n",
    "    train.set_index('index', inplace=True, drop=True)\n",
    "    train = train.fillna(0)\n",
    "    return train\n",
    "\n",
    "train = prep(train)"
   ],
   "metadata": {
    "collapsed": false,
    "ExecuteTime": {
     "end_time": "2023-09-09T19:30:20.364263100Z",
     "start_time": "2023-09-09T19:30:19.929781700Z"
    }
   },
   "id": "2141cf343803c1c9"
  },
  {
   "cell_type": "code",
   "execution_count": 32,
   "outputs": [
    {
     "data": {
      "text/plain": "                      date     open     high      low    close     volume  \\\nindex                                                                       \n0      2021-11-24 14:00:00  159.380  159.703  158.862  159.085  3513469.0   \n0      2021-11-24 14:00:00   62.865   62.988   62.693   62.764   502837.0   \n0      2021-11-24 14:00:00  158.451  158.655  158.097  158.304   328534.0   \n0      2021-11-24 14:00:00  379.350  379.789  377.857  378.279    78441.0   \n0      2021-11-24 14:00:00  145.744  146.249  145.587  145.825   329860.0   \n...                    ...      ...      ...      ...      ...        ...   \n2481   2023-04-26 10:00:00   59.444   59.938   59.362   59.891  1496473.0   \n2481   2023-04-26 10:00:00  186.561  186.758  185.602  185.652   153780.0   \n2481   2023-04-26 10:00:00   63.061   63.226   62.975   63.101   604614.0   \n2481   2023-04-26 10:00:00   46.188   46.293   46.087   46.124   541125.0   \n2481   2023-04-26 10:00:00   46.272   46.319   45.792   45.794  1627498.0   \n\n         tic  day      macd     boll_ub  ...  close_30_sma  close_60_sma  \\\nindex                                    ...                               \n0       AAPL    5  0.000000  160.308182  ...    159.085000    159.085000   \n0          C    5  0.000000  160.308182  ...     62.764000     62.764000   \n0        JPM    5  0.000000  160.308182  ...    158.304000    158.304000   \n0         GS    5  0.000000  160.308182  ...    378.279000    378.279000   \n0      GOOGL    5  0.000000  160.308182  ...    145.825000    145.825000   \n...      ...  ...       ...         ...  ...           ...           ...   \n2481      MU    1 -0.559588   61.670013  ...     60.116533     60.955850   \n2481     PEP    1  1.081484  188.509769  ...    184.072067    182.829733   \n2481      KO    1 -0.025948   63.929023  ...     63.422567     63.127017   \n2481      MO    1  0.310577   46.517387  ...     45.381600     45.009067   \n2481       C    1 -0.453745   48.696019  ...     47.719200     48.058083   \n\n        turbulence     vix  stocktwitsPosts  stocktwitsLikes  \\\nindex                                                          \n0         0.000000  85.622       102.000000            132.0   \n0         0.000000  85.622         0.000000              0.0   \n0         0.000000  85.622         4.000000              3.0   \n0         0.000000  85.622         1.000000              0.0   \n0         0.000000  85.622         2.000000              2.0   \n...            ...     ...              ...              ...   \n2481   4705.439114  42.076         0.000000              0.0   \n2481   4705.439114  42.076         1.000000              0.0   \n2481   4705.439114  42.076         1.000000              0.0   \n2481   4705.439114  42.076         1.600000              5.0   \n2481   4705.439114  42.076         2.555556              0.0   \n\n       stocktwitsImpressions  stocktwitsSentiment    random    change  \nindex                                                                  \n0              361612.000000             0.532856  0.394685  0.000000  \n0                   0.000000             0.405170  0.686041 -0.925136  \n0               88331.000000             0.427115  0.501671 -0.871115  \n0                   1.000000             0.376175  0.028926  0.953225  \n0                 279.000000             0.485056  0.328640 -0.033879  \n...                      ...                  ...       ...       ...  \n2481                0.000000             0.000000  0.316690 -1.131348  \n2481            35848.666667             0.500000  0.056523  0.802627  \n2481            10196.000000             0.546800  0.268158 -0.755347  \n2481              268.000000             0.643300  0.264777 -1.207604  \n2481             6209.666667             0.542567  0.147054 -0.320584  \n\n[74460 rows x 24 columns]",
      "text/html": "<div>\n<style scoped>\n    .dataframe tbody tr th:only-of-type {\n        vertical-align: middle;\n    }\n\n    .dataframe tbody tr th {\n        vertical-align: top;\n    }\n\n    .dataframe thead th {\n        text-align: right;\n    }\n</style>\n<table border=\"1\" class=\"dataframe\">\n  <thead>\n    <tr style=\"text-align: right;\">\n      <th></th>\n      <th>date</th>\n      <th>open</th>\n      <th>high</th>\n      <th>low</th>\n      <th>close</th>\n      <th>volume</th>\n      <th>tic</th>\n      <th>day</th>\n      <th>macd</th>\n      <th>boll_ub</th>\n      <th>...</th>\n      <th>close_30_sma</th>\n      <th>close_60_sma</th>\n      <th>turbulence</th>\n      <th>vix</th>\n      <th>stocktwitsPosts</th>\n      <th>stocktwitsLikes</th>\n      <th>stocktwitsImpressions</th>\n      <th>stocktwitsSentiment</th>\n      <th>random</th>\n      <th>change</th>\n    </tr>\n    <tr>\n      <th>index</th>\n      <th></th>\n      <th></th>\n      <th></th>\n      <th></th>\n      <th></th>\n      <th></th>\n      <th></th>\n      <th></th>\n      <th></th>\n      <th></th>\n      <th></th>\n      <th></th>\n      <th></th>\n      <th></th>\n      <th></th>\n      <th></th>\n      <th></th>\n      <th></th>\n      <th></th>\n      <th></th>\n      <th></th>\n    </tr>\n  </thead>\n  <tbody>\n    <tr>\n      <th>0</th>\n      <td>2021-11-24 14:00:00</td>\n      <td>159.380</td>\n      <td>159.703</td>\n      <td>158.862</td>\n      <td>159.085</td>\n      <td>3513469.0</td>\n      <td>AAPL</td>\n      <td>5</td>\n      <td>0.000000</td>\n      <td>160.308182</td>\n      <td>...</td>\n      <td>159.085000</td>\n      <td>159.085000</td>\n      <td>0.000000</td>\n      <td>85.622</td>\n      <td>102.000000</td>\n      <td>132.0</td>\n      <td>361612.000000</td>\n      <td>0.532856</td>\n      <td>0.394685</td>\n      <td>0.000000</td>\n    </tr>\n    <tr>\n      <th>0</th>\n      <td>2021-11-24 14:00:00</td>\n      <td>62.865</td>\n      <td>62.988</td>\n      <td>62.693</td>\n      <td>62.764</td>\n      <td>502837.0</td>\n      <td>C</td>\n      <td>5</td>\n      <td>0.000000</td>\n      <td>160.308182</td>\n      <td>...</td>\n      <td>62.764000</td>\n      <td>62.764000</td>\n      <td>0.000000</td>\n      <td>85.622</td>\n      <td>0.000000</td>\n      <td>0.0</td>\n      <td>0.000000</td>\n      <td>0.405170</td>\n      <td>0.686041</td>\n      <td>-0.925136</td>\n    </tr>\n    <tr>\n      <th>0</th>\n      <td>2021-11-24 14:00:00</td>\n      <td>158.451</td>\n      <td>158.655</td>\n      <td>158.097</td>\n      <td>158.304</td>\n      <td>328534.0</td>\n      <td>JPM</td>\n      <td>5</td>\n      <td>0.000000</td>\n      <td>160.308182</td>\n      <td>...</td>\n      <td>158.304000</td>\n      <td>158.304000</td>\n      <td>0.000000</td>\n      <td>85.622</td>\n      <td>4.000000</td>\n      <td>3.0</td>\n      <td>88331.000000</td>\n      <td>0.427115</td>\n      <td>0.501671</td>\n      <td>-0.871115</td>\n    </tr>\n    <tr>\n      <th>0</th>\n      <td>2021-11-24 14:00:00</td>\n      <td>379.350</td>\n      <td>379.789</td>\n      <td>377.857</td>\n      <td>378.279</td>\n      <td>78441.0</td>\n      <td>GS</td>\n      <td>5</td>\n      <td>0.000000</td>\n      <td>160.308182</td>\n      <td>...</td>\n      <td>378.279000</td>\n      <td>378.279000</td>\n      <td>0.000000</td>\n      <td>85.622</td>\n      <td>1.000000</td>\n      <td>0.0</td>\n      <td>1.000000</td>\n      <td>0.376175</td>\n      <td>0.028926</td>\n      <td>0.953225</td>\n    </tr>\n    <tr>\n      <th>0</th>\n      <td>2021-11-24 14:00:00</td>\n      <td>145.744</td>\n      <td>146.249</td>\n      <td>145.587</td>\n      <td>145.825</td>\n      <td>329860.0</td>\n      <td>GOOGL</td>\n      <td>5</td>\n      <td>0.000000</td>\n      <td>160.308182</td>\n      <td>...</td>\n      <td>145.825000</td>\n      <td>145.825000</td>\n      <td>0.000000</td>\n      <td>85.622</td>\n      <td>2.000000</td>\n      <td>2.0</td>\n      <td>279.000000</td>\n      <td>0.485056</td>\n      <td>0.328640</td>\n      <td>-0.033879</td>\n    </tr>\n    <tr>\n      <th>...</th>\n      <td>...</td>\n      <td>...</td>\n      <td>...</td>\n      <td>...</td>\n      <td>...</td>\n      <td>...</td>\n      <td>...</td>\n      <td>...</td>\n      <td>...</td>\n      <td>...</td>\n      <td>...</td>\n      <td>...</td>\n      <td>...</td>\n      <td>...</td>\n      <td>...</td>\n      <td>...</td>\n      <td>...</td>\n      <td>...</td>\n      <td>...</td>\n      <td>...</td>\n      <td>...</td>\n    </tr>\n    <tr>\n      <th>2481</th>\n      <td>2023-04-26 10:00:00</td>\n      <td>59.444</td>\n      <td>59.938</td>\n      <td>59.362</td>\n      <td>59.891</td>\n      <td>1496473.0</td>\n      <td>MU</td>\n      <td>1</td>\n      <td>-0.559588</td>\n      <td>61.670013</td>\n      <td>...</td>\n      <td>60.116533</td>\n      <td>60.955850</td>\n      <td>4705.439114</td>\n      <td>42.076</td>\n      <td>0.000000</td>\n      <td>0.0</td>\n      <td>0.000000</td>\n      <td>0.000000</td>\n      <td>0.316690</td>\n      <td>-1.131348</td>\n    </tr>\n    <tr>\n      <th>2481</th>\n      <td>2023-04-26 10:00:00</td>\n      <td>186.561</td>\n      <td>186.758</td>\n      <td>185.602</td>\n      <td>185.652</td>\n      <td>153780.0</td>\n      <td>PEP</td>\n      <td>1</td>\n      <td>1.081484</td>\n      <td>188.509769</td>\n      <td>...</td>\n      <td>184.072067</td>\n      <td>182.829733</td>\n      <td>4705.439114</td>\n      <td>42.076</td>\n      <td>1.000000</td>\n      <td>0.0</td>\n      <td>35848.666667</td>\n      <td>0.500000</td>\n      <td>0.056523</td>\n      <td>0.802627</td>\n    </tr>\n    <tr>\n      <th>2481</th>\n      <td>2023-04-26 10:00:00</td>\n      <td>63.061</td>\n      <td>63.226</td>\n      <td>62.975</td>\n      <td>63.101</td>\n      <td>604614.0</td>\n      <td>KO</td>\n      <td>1</td>\n      <td>-0.025948</td>\n      <td>63.929023</td>\n      <td>...</td>\n      <td>63.422567</td>\n      <td>63.127017</td>\n      <td>4705.439114</td>\n      <td>42.076</td>\n      <td>1.000000</td>\n      <td>0.0</td>\n      <td>10196.000000</td>\n      <td>0.546800</td>\n      <td>0.268158</td>\n      <td>-0.755347</td>\n    </tr>\n    <tr>\n      <th>2481</th>\n      <td>2023-04-26 10:00:00</td>\n      <td>46.188</td>\n      <td>46.293</td>\n      <td>46.087</td>\n      <td>46.124</td>\n      <td>541125.0</td>\n      <td>MO</td>\n      <td>1</td>\n      <td>0.310577</td>\n      <td>46.517387</td>\n      <td>...</td>\n      <td>45.381600</td>\n      <td>45.009067</td>\n      <td>4705.439114</td>\n      <td>42.076</td>\n      <td>1.600000</td>\n      <td>5.0</td>\n      <td>268.000000</td>\n      <td>0.643300</td>\n      <td>0.264777</td>\n      <td>-1.207604</td>\n    </tr>\n    <tr>\n      <th>2481</th>\n      <td>2023-04-26 10:00:00</td>\n      <td>46.272</td>\n      <td>46.319</td>\n      <td>45.792</td>\n      <td>45.794</td>\n      <td>1627498.0</td>\n      <td>C</td>\n      <td>1</td>\n      <td>-0.453745</td>\n      <td>48.696019</td>\n      <td>...</td>\n      <td>47.719200</td>\n      <td>48.058083</td>\n      <td>4705.439114</td>\n      <td>42.076</td>\n      <td>2.555556</td>\n      <td>0.0</td>\n      <td>6209.666667</td>\n      <td>0.542567</td>\n      <td>0.147054</td>\n      <td>-0.320584</td>\n    </tr>\n  </tbody>\n</table>\n<p>74460 rows × 24 columns</p>\n</div>"
     },
     "execution_count": 32,
     "metadata": {},
     "output_type": "execute_result"
    }
   ],
   "source": [
    "train"
   ],
   "metadata": {
    "collapsed": false,
    "ExecuteTime": {
     "end_time": "2023-09-09T19:30:22.990025500Z",
     "start_time": "2023-09-09T19:30:22.883516300Z"
    }
   },
   "id": "52eee8973560302b"
  },
  {
   "cell_type": "code",
   "execution_count": 5,
   "outputs": [
    {
     "ename": "NameError",
     "evalue": "name 'filtered' is not defined",
     "output_type": "error",
     "traceback": [
      "\u001B[1;31m---------------------------------------------------------------------------\u001B[0m",
      "\u001B[1;31mNameError\u001B[0m                                 Traceback (most recent call last)",
      "Cell \u001B[1;32mIn[5], line 6\u001B[0m\n\u001B[0;32m      3\u001B[0m plt\u001B[38;5;241m.\u001B[39mrcParams\u001B[38;5;241m.\u001B[39mupdate({\u001B[38;5;124m'\u001B[39m\u001B[38;5;124mfigure.figsize\u001B[39m\u001B[38;5;124m'\u001B[39m:(\u001B[38;5;241m7\u001B[39m,\u001B[38;5;241m5\u001B[39m), \u001B[38;5;124m'\u001B[39m\u001B[38;5;124mfigure.dpi\u001B[39m\u001B[38;5;124m'\u001B[39m:\u001B[38;5;241m100\u001B[39m})\n\u001B[0;32m      5\u001B[0m \u001B[38;5;66;03m# Plot Histogram on x\u001B[39;00m\n\u001B[1;32m----> 6\u001B[0m x \u001B[38;5;241m=\u001B[39m \u001B[43mfiltered\u001B[49m\n\u001B[0;32m      7\u001B[0m plt\u001B[38;5;241m.\u001B[39mhist(x, bins\u001B[38;5;241m=\u001B[39m\u001B[38;5;241m20\u001B[39m)\n\u001B[0;32m      8\u001B[0m plt\u001B[38;5;241m.\u001B[39mgca()\u001B[38;5;241m.\u001B[39mset(title\u001B[38;5;241m=\u001B[39m\u001B[38;5;124m'\u001B[39m\u001B[38;5;124mFrequency Histogram\u001B[39m\u001B[38;5;124m'\u001B[39m, ylabel\u001B[38;5;241m=\u001B[39m\u001B[38;5;124m'\u001B[39m\u001B[38;5;124mFrequency\u001B[39m\u001B[38;5;124m'\u001B[39m);\n",
      "\u001B[1;31mNameError\u001B[0m: name 'filtered' is not defined"
     ]
    }
   ],
   "source": [
    "import matplotlib.pyplot as plt\n",
    "%matplotlib inline\n",
    "plt.rcParams.update({'figure.figsize':(7,5), 'figure.dpi':100})\n",
    "\n",
    "# Plot Histogram on x\n",
    "x = filtered\n",
    "plt.hist(x, bins=20)\n",
    "plt.gca().set(title='Frequency Histogram', ylabel='Frequency');"
   ],
   "metadata": {
    "collapsed": false,
    "ExecuteTime": {
     "end_time": "2023-09-09T19:27:45.340748600Z",
     "start_time": "2023-09-09T19:27:43.170671700Z"
    }
   },
   "id": "4efb62d56a8a8306"
  },
  {
   "cell_type": "code",
   "execution_count": null,
   "outputs": [],
   "source": [
    "def is_outlier(points, thresh=3.5):\n",
    "    \"\"\"\n",
    "    Returns a boolean array with True if points are outliers and False \n",
    "    otherwise.\n",
    "\n",
    "    Parameters:\n",
    "    -----------\n",
    "        points : An numobservations by numdimensions array of observations\n",
    "        thresh : The modified z-score to use as a threshold. Observations with\n",
    "            a modified z-score (based on the median absolute deviation) greater\n",
    "            than this value will be classified as outliers.\n",
    "\n",
    "    Returns:\n",
    "    --------\n",
    "        mask : A numobservations-length boolean array.\n",
    "\n",
    "    References:\n",
    "    ----------\n",
    "        Boris Iglewicz and David Hoaglin (1993), \"Volume 16: How to Detect and\n",
    "        Handle Outliers\", The ASQC Basic References in Quality Control:\n",
    "        Statistical Techniques, Edward F. Mykytka, Ph.D., Editor. \n",
    "    \"\"\"\n",
    "    if len(points.shape) == 1:\n",
    "        points = points[:,None]\n",
    "    median = np.median(points, axis=0)\n",
    "    diff = np.sum((points - median)**2, axis=-1)\n",
    "    diff = np.sqrt(diff)\n",
    "    med_abs_deviation = np.median(diff)\n",
    "\n",
    "    modified_z_score = 0.6745 * diff / med_abs_deviation\n",
    "\n",
    "    return modified_z_score > thresh"
   ],
   "metadata": {
    "collapsed": false,
    "ExecuteTime": {
     "start_time": "2023-09-09T19:27:45.214019400Z"
    }
   },
   "id": "a7ffe7dd2ff41b72"
  },
  {
   "cell_type": "code",
   "execution_count": null,
   "outputs": [],
   "source": [
    "filtered = x[~is_outlier(x.values)]"
   ],
   "metadata": {
    "collapsed": false,
    "ExecuteTime": {
     "start_time": "2023-09-09T19:27:45.218267800Z"
    }
   },
   "id": "a08dfeb510281d1c"
  },
  {
   "cell_type": "code",
   "execution_count": 6,
   "outputs": [
    {
     "ename": "NameError",
     "evalue": "name 'filtered' is not defined",
     "output_type": "error",
     "traceback": [
      "\u001B[1;31m---------------------------------------------------------------------------\u001B[0m",
      "\u001B[1;31mNameError\u001B[0m                                 Traceback (most recent call last)",
      "Cell \u001B[1;32mIn[6], line 1\u001B[0m\n\u001B[1;32m----> 1\u001B[0m \u001B[43mfiltered\u001B[49m\n",
      "\u001B[1;31mNameError\u001B[0m: name 'filtered' is not defined"
     ]
    }
   ],
   "source": [
    "filtered"
   ],
   "metadata": {
    "collapsed": false,
    "ExecuteTime": {
     "end_time": "2023-09-09T19:27:46.990991700Z",
     "start_time": "2023-09-09T19:27:46.401490400Z"
    }
   },
   "id": "870943807c30cac2"
  },
  {
   "cell_type": "code",
   "execution_count": 6,
   "outputs": [],
   "source": [],
   "metadata": {
    "collapsed": false,
    "ExecuteTime": {
     "end_time": "2023-09-09T19:27:47.037152600Z",
     "start_time": "2023-09-09T19:27:46.911747400Z"
    }
   },
   "id": "bf39a92998225e9f"
  },
  {
   "cell_type": "code",
   "execution_count": 6,
   "outputs": [],
   "source": [],
   "metadata": {
    "collapsed": false,
    "ExecuteTime": {
     "end_time": "2023-09-09T19:27:47.079793800Z",
     "start_time": "2023-09-09T19:27:46.940331800Z"
    }
   },
   "id": "9feffe1862cb56ad"
  },
  {
   "cell_type": "code",
   "execution_count": 6,
   "outputs": [],
   "source": [],
   "metadata": {
    "collapsed": false,
    "ExecuteTime": {
     "end_time": "2023-09-09T19:27:49.761471600Z",
     "start_time": "2023-09-09T19:27:49.392341300Z"
    }
   },
   "id": "45b92fe37ada9b35"
  },
  {
   "cell_type": "code",
   "execution_count": 6,
   "outputs": [],
   "source": [],
   "metadata": {
    "collapsed": false,
    "ExecuteTime": {
     "end_time": "2023-09-09T19:27:49.825311Z",
     "start_time": "2023-09-09T19:27:49.746162700Z"
    }
   },
   "id": "a726c501ba971a8d"
  },
  {
   "cell_type": "code",
   "execution_count": 33,
   "outputs": [],
   "source": [
    "df_num = train.select_dtypes(include='number')\n",
    "df_norm = (df_num - df_num.min()) / (df_num.max() - df_num.min())*200 + 20\n",
    "\n",
    "\n",
    "train[df_norm.columns] = df_norm"
   ],
   "metadata": {
    "collapsed": false,
    "ExecuteTime": {
     "end_time": "2023-09-09T19:31:08.405147700Z",
     "start_time": "2023-09-09T19:31:08.329996800Z"
    }
   },
   "id": "e74f5353005284d9"
  },
  {
   "cell_type": "code",
   "execution_count": 34,
   "outputs": [
    {
     "data": {
      "text/plain": "             open        high         low       close     volume         day  \\\nindex                                                                          \n0       64.016138   63.988587   64.138571   63.994663  36.200417  186.666667   \n0       34.827192   34.786757   34.875852   34.787895  22.318159  186.666667   \n0       63.735181   63.672157   63.905794   63.757846  21.514435  186.666667   \n0      130.541469  130.440677  130.775316  130.459383  20.361236  186.666667   \n0       59.892214   59.926327   60.099197   59.973923  21.520549  186.666667   \n...           ...         ...         ...         ...        ...         ...   \n2481    33.792582   33.865849   33.862281   33.916735  26.899892   53.333333   \n2481    72.236463   72.157490   72.275134   72.050396  20.708630   53.333333   \n2481    34.886468   34.858618   34.961660   34.890082  22.787461   53.333333   \n2481    29.783582   29.745920   29.822907   29.742260  22.494708   53.333333   \n2481    29.808986   29.753770   29.733143   29.642197  27.504058   53.333333   \n\n             macd    boll_ub    boll_lb      rsi_30  ...  close_30_sma  \\\nindex                                                ...                 \n0      165.183339  63.770385  64.997297  220.000000  ...     64.512513   \n0      165.183339  63.770385  64.997297  220.000000  ...     34.921095   \n0      165.183339  63.770385  64.997297  220.000000  ...     64.272577   \n0      165.183339  63.770385  64.997297  220.000000  ...    131.852568   \n0      165.183339  63.770385  64.997297  220.000000  ...     60.438820   \n...           ...        ...        ...         ...  ...           ...   \n2481   163.224511  34.201409  33.553319  114.972636  ...     34.107749   \n2481   168.969054  72.224435  71.954183  140.701728  ...     72.188957   \n2481   165.092509  34.878597  35.273524  120.087130  ...     35.123417   \n2481   166.270508  29.659074  29.591026  156.219607  ...     29.580931   \n2481   163.595012  30.312167  30.058633   93.040158  ...     30.299081   \n\n       close_60_sma  turbulence         vix  stocktwitsPosts  stocktwitsLikes  \\\nindex                                                                           \n0         64.465603   20.000000  161.582472        42.666667        50.877193   \n0         34.865256   20.000000  161.582472        20.000000        20.000000   \n0         64.225594   20.000000  161.582472        20.888889        20.701754   \n0        131.825974   20.000000  161.582472        20.222222        20.000000   \n0         60.390680   20.000000  161.582472        20.444444        20.467836   \n...             ...         ...         ...              ...              ...   \n2481      34.309595   26.939494   89.575858        20.000000        20.000000   \n2481      71.762582   26.939494   89.575858        20.222222        20.000000   \n2481      34.976815   26.939494   89.575858        20.222222        20.000000   \n2481      29.408999   26.939494   89.575858        20.355556        21.169591   \n2481      30.345990   26.939494   89.575858        20.567901        20.000000   \n\n       stocktwitsImpressions  stocktwitsSentiment      random      change  \nindex                                                                      \n0                  47.542370           126.571143   98.931973  118.329497  \n0                  20.000076           101.033996  157.205789   89.135219  \n0                  26.727835           105.423009  120.330185   90.839940  \n0                  20.000152            95.234946   25.776899  148.410179  \n0                  20.021326           117.011256   85.722364  117.260396  \n...                      ...                  ...         ...         ...  \n2481               20.000076            20.000000   83.332440   82.627833  \n2481               22.730501           120.000000   31.296705  143.657790  \n2481               20.776658           129.360000   73.625456   94.493198  \n2481               20.020488           148.660000   72.949339   80.221424  \n2481               20.473037           128.513333   49.403583  108.212920  \n\n[74460 rows x 22 columns]",
      "text/html": "<div>\n<style scoped>\n    .dataframe tbody tr th:only-of-type {\n        vertical-align: middle;\n    }\n\n    .dataframe tbody tr th {\n        vertical-align: top;\n    }\n\n    .dataframe thead th {\n        text-align: right;\n    }\n</style>\n<table border=\"1\" class=\"dataframe\">\n  <thead>\n    <tr style=\"text-align: right;\">\n      <th></th>\n      <th>open</th>\n      <th>high</th>\n      <th>low</th>\n      <th>close</th>\n      <th>volume</th>\n      <th>day</th>\n      <th>macd</th>\n      <th>boll_ub</th>\n      <th>boll_lb</th>\n      <th>rsi_30</th>\n      <th>...</th>\n      <th>close_30_sma</th>\n      <th>close_60_sma</th>\n      <th>turbulence</th>\n      <th>vix</th>\n      <th>stocktwitsPosts</th>\n      <th>stocktwitsLikes</th>\n      <th>stocktwitsImpressions</th>\n      <th>stocktwitsSentiment</th>\n      <th>random</th>\n      <th>change</th>\n    </tr>\n    <tr>\n      <th>index</th>\n      <th></th>\n      <th></th>\n      <th></th>\n      <th></th>\n      <th></th>\n      <th></th>\n      <th></th>\n      <th></th>\n      <th></th>\n      <th></th>\n      <th></th>\n      <th></th>\n      <th></th>\n      <th></th>\n      <th></th>\n      <th></th>\n      <th></th>\n      <th></th>\n      <th></th>\n      <th></th>\n      <th></th>\n    </tr>\n  </thead>\n  <tbody>\n    <tr>\n      <th>0</th>\n      <td>64.016138</td>\n      <td>63.988587</td>\n      <td>64.138571</td>\n      <td>63.994663</td>\n      <td>36.200417</td>\n      <td>186.666667</td>\n      <td>165.183339</td>\n      <td>63.770385</td>\n      <td>64.997297</td>\n      <td>220.000000</td>\n      <td>...</td>\n      <td>64.512513</td>\n      <td>64.465603</td>\n      <td>20.000000</td>\n      <td>161.582472</td>\n      <td>42.666667</td>\n      <td>50.877193</td>\n      <td>47.542370</td>\n      <td>126.571143</td>\n      <td>98.931973</td>\n      <td>118.329497</td>\n    </tr>\n    <tr>\n      <th>0</th>\n      <td>34.827192</td>\n      <td>34.786757</td>\n      <td>34.875852</td>\n      <td>34.787895</td>\n      <td>22.318159</td>\n      <td>186.666667</td>\n      <td>165.183339</td>\n      <td>63.770385</td>\n      <td>64.997297</td>\n      <td>220.000000</td>\n      <td>...</td>\n      <td>34.921095</td>\n      <td>34.865256</td>\n      <td>20.000000</td>\n      <td>161.582472</td>\n      <td>20.000000</td>\n      <td>20.000000</td>\n      <td>20.000076</td>\n      <td>101.033996</td>\n      <td>157.205789</td>\n      <td>89.135219</td>\n    </tr>\n    <tr>\n      <th>0</th>\n      <td>63.735181</td>\n      <td>63.672157</td>\n      <td>63.905794</td>\n      <td>63.757846</td>\n      <td>21.514435</td>\n      <td>186.666667</td>\n      <td>165.183339</td>\n      <td>63.770385</td>\n      <td>64.997297</td>\n      <td>220.000000</td>\n      <td>...</td>\n      <td>64.272577</td>\n      <td>64.225594</td>\n      <td>20.000000</td>\n      <td>161.582472</td>\n      <td>20.888889</td>\n      <td>20.701754</td>\n      <td>26.727835</td>\n      <td>105.423009</td>\n      <td>120.330185</td>\n      <td>90.839940</td>\n    </tr>\n    <tr>\n      <th>0</th>\n      <td>130.541469</td>\n      <td>130.440677</td>\n      <td>130.775316</td>\n      <td>130.459383</td>\n      <td>20.361236</td>\n      <td>186.666667</td>\n      <td>165.183339</td>\n      <td>63.770385</td>\n      <td>64.997297</td>\n      <td>220.000000</td>\n      <td>...</td>\n      <td>131.852568</td>\n      <td>131.825974</td>\n      <td>20.000000</td>\n      <td>161.582472</td>\n      <td>20.222222</td>\n      <td>20.000000</td>\n      <td>20.000152</td>\n      <td>95.234946</td>\n      <td>25.776899</td>\n      <td>148.410179</td>\n    </tr>\n    <tr>\n      <th>0</th>\n      <td>59.892214</td>\n      <td>59.926327</td>\n      <td>60.099197</td>\n      <td>59.973923</td>\n      <td>21.520549</td>\n      <td>186.666667</td>\n      <td>165.183339</td>\n      <td>63.770385</td>\n      <td>64.997297</td>\n      <td>220.000000</td>\n      <td>...</td>\n      <td>60.438820</td>\n      <td>60.390680</td>\n      <td>20.000000</td>\n      <td>161.582472</td>\n      <td>20.444444</td>\n      <td>20.467836</td>\n      <td>20.021326</td>\n      <td>117.011256</td>\n      <td>85.722364</td>\n      <td>117.260396</td>\n    </tr>\n    <tr>\n      <th>...</th>\n      <td>...</td>\n      <td>...</td>\n      <td>...</td>\n      <td>...</td>\n      <td>...</td>\n      <td>...</td>\n      <td>...</td>\n      <td>...</td>\n      <td>...</td>\n      <td>...</td>\n      <td>...</td>\n      <td>...</td>\n      <td>...</td>\n      <td>...</td>\n      <td>...</td>\n      <td>...</td>\n      <td>...</td>\n      <td>...</td>\n      <td>...</td>\n      <td>...</td>\n      <td>...</td>\n    </tr>\n    <tr>\n      <th>2481</th>\n      <td>33.792582</td>\n      <td>33.865849</td>\n      <td>33.862281</td>\n      <td>33.916735</td>\n      <td>26.899892</td>\n      <td>53.333333</td>\n      <td>163.224511</td>\n      <td>34.201409</td>\n      <td>33.553319</td>\n      <td>114.972636</td>\n      <td>...</td>\n      <td>34.107749</td>\n      <td>34.309595</td>\n      <td>26.939494</td>\n      <td>89.575858</td>\n      <td>20.000000</td>\n      <td>20.000000</td>\n      <td>20.000076</td>\n      <td>20.000000</td>\n      <td>83.332440</td>\n      <td>82.627833</td>\n    </tr>\n    <tr>\n      <th>2481</th>\n      <td>72.236463</td>\n      <td>72.157490</td>\n      <td>72.275134</td>\n      <td>72.050396</td>\n      <td>20.708630</td>\n      <td>53.333333</td>\n      <td>168.969054</td>\n      <td>72.224435</td>\n      <td>71.954183</td>\n      <td>140.701728</td>\n      <td>...</td>\n      <td>72.188957</td>\n      <td>71.762582</td>\n      <td>26.939494</td>\n      <td>89.575858</td>\n      <td>20.222222</td>\n      <td>20.000000</td>\n      <td>22.730501</td>\n      <td>120.000000</td>\n      <td>31.296705</td>\n      <td>143.657790</td>\n    </tr>\n    <tr>\n      <th>2481</th>\n      <td>34.886468</td>\n      <td>34.858618</td>\n      <td>34.961660</td>\n      <td>34.890082</td>\n      <td>22.787461</td>\n      <td>53.333333</td>\n      <td>165.092509</td>\n      <td>34.878597</td>\n      <td>35.273524</td>\n      <td>120.087130</td>\n      <td>...</td>\n      <td>35.123417</td>\n      <td>34.976815</td>\n      <td>26.939494</td>\n      <td>89.575858</td>\n      <td>20.222222</td>\n      <td>20.000000</td>\n      <td>20.776658</td>\n      <td>129.360000</td>\n      <td>73.625456</td>\n      <td>94.493198</td>\n    </tr>\n    <tr>\n      <th>2481</th>\n      <td>29.783582</td>\n      <td>29.745920</td>\n      <td>29.822907</td>\n      <td>29.742260</td>\n      <td>22.494708</td>\n      <td>53.333333</td>\n      <td>166.270508</td>\n      <td>29.659074</td>\n      <td>29.591026</td>\n      <td>156.219607</td>\n      <td>...</td>\n      <td>29.580931</td>\n      <td>29.408999</td>\n      <td>26.939494</td>\n      <td>89.575858</td>\n      <td>20.355556</td>\n      <td>21.169591</td>\n      <td>20.020488</td>\n      <td>148.660000</td>\n      <td>72.949339</td>\n      <td>80.221424</td>\n    </tr>\n    <tr>\n      <th>2481</th>\n      <td>29.808986</td>\n      <td>29.753770</td>\n      <td>29.733143</td>\n      <td>29.642197</td>\n      <td>27.504058</td>\n      <td>53.333333</td>\n      <td>163.595012</td>\n      <td>30.312167</td>\n      <td>30.058633</td>\n      <td>93.040158</td>\n      <td>...</td>\n      <td>30.299081</td>\n      <td>30.345990</td>\n      <td>26.939494</td>\n      <td>89.575858</td>\n      <td>20.567901</td>\n      <td>20.000000</td>\n      <td>20.473037</td>\n      <td>128.513333</td>\n      <td>49.403583</td>\n      <td>108.212920</td>\n    </tr>\n  </tbody>\n</table>\n<p>74460 rows × 22 columns</p>\n</div>"
     },
     "execution_count": 34,
     "metadata": {},
     "output_type": "execute_result"
    }
   ],
   "source": [
    "df_norm"
   ],
   "metadata": {
    "collapsed": false,
    "ExecuteTime": {
     "end_time": "2023-09-09T19:31:09.804966400Z",
     "start_time": "2023-09-09T19:31:09.730844900Z"
    }
   },
   "id": "483bc676e4b809bf"
  },
  {
   "cell_type": "code",
   "execution_count": 35,
   "outputs": [
    {
     "data": {
      "text/plain": "                      date        open        high         low       close  \\\nindex                                                                        \n0      2021-11-24 14:00:00   64.016138   63.988587   64.138571   63.994663   \n0      2021-11-24 14:00:00   34.827192   34.786757   34.875852   34.787895   \n0      2021-11-24 14:00:00   63.735181   63.672157   63.905794   63.757846   \n0      2021-11-24 14:00:00  130.541469  130.440677  130.775316  130.459383   \n0      2021-11-24 14:00:00   59.892214   59.926327   60.099197   59.973923   \n...                    ...         ...         ...         ...         ...   \n2481   2023-04-26 10:00:00   33.792582   33.865849   33.862281   33.916735   \n2481   2023-04-26 10:00:00   72.236463   72.157490   72.275134   72.050396   \n2481   2023-04-26 10:00:00   34.886468   34.858618   34.961660   34.890082   \n2481   2023-04-26 10:00:00   29.783582   29.745920   29.822907   29.742260   \n2481   2023-04-26 10:00:00   29.808986   29.753770   29.733143   29.642197   \n\n          volume    tic         day        macd    boll_ub  ...  close_30_sma  \\\nindex                                                       ...                 \n0      36.200417   AAPL  186.666667  165.183339  63.770385  ...     64.512513   \n0      22.318159      C  186.666667  165.183339  63.770385  ...     34.921095   \n0      21.514435    JPM  186.666667  165.183339  63.770385  ...     64.272577   \n0      20.361236     GS  186.666667  165.183339  63.770385  ...    131.852568   \n0      21.520549  GOOGL  186.666667  165.183339  63.770385  ...     60.438820   \n...          ...    ...         ...         ...        ...  ...           ...   \n2481   26.899892     MU   53.333333  163.224511  34.201409  ...     34.107749   \n2481   20.708630    PEP   53.333333  168.969054  72.224435  ...     72.188957   \n2481   22.787461     KO   53.333333  165.092509  34.878597  ...     35.123417   \n2481   22.494708     MO   53.333333  166.270508  29.659074  ...     29.580931   \n2481   27.504058      C   53.333333  163.595012  30.312167  ...     30.299081   \n\n       close_60_sma  turbulence         vix  stocktwitsPosts  stocktwitsLikes  \\\nindex                                                                           \n0         64.465603   20.000000  161.582472        42.666667        50.877193   \n0         34.865256   20.000000  161.582472        20.000000        20.000000   \n0         64.225594   20.000000  161.582472        20.888889        20.701754   \n0        131.825974   20.000000  161.582472        20.222222        20.000000   \n0         60.390680   20.000000  161.582472        20.444444        20.467836   \n...             ...         ...         ...              ...              ...   \n2481      34.309595   26.939494   89.575858        20.000000        20.000000   \n2481      71.762582   26.939494   89.575858        20.222222        20.000000   \n2481      34.976815   26.939494   89.575858        20.222222        20.000000   \n2481      29.408999   26.939494   89.575858        20.355556        21.169591   \n2481      30.345990   26.939494   89.575858        20.567901        20.000000   \n\n       stocktwitsImpressions  stocktwitsSentiment      random      change  \nindex                                                                      \n0                  47.542370           126.571143   98.931973  118.329497  \n0                  20.000076           101.033996  157.205789   89.135219  \n0                  26.727835           105.423009  120.330185   90.839940  \n0                  20.000152            95.234946   25.776899  148.410179  \n0                  20.021326           117.011256   85.722364  117.260396  \n...                      ...                  ...         ...         ...  \n2481               20.000076            20.000000   83.332440   82.627833  \n2481               22.730501           120.000000   31.296705  143.657790  \n2481               20.776658           129.360000   73.625456   94.493198  \n2481               20.020488           148.660000   72.949339   80.221424  \n2481               20.473037           128.513333   49.403583  108.212920  \n\n[74460 rows x 24 columns]",
      "text/html": "<div>\n<style scoped>\n    .dataframe tbody tr th:only-of-type {\n        vertical-align: middle;\n    }\n\n    .dataframe tbody tr th {\n        vertical-align: top;\n    }\n\n    .dataframe thead th {\n        text-align: right;\n    }\n</style>\n<table border=\"1\" class=\"dataframe\">\n  <thead>\n    <tr style=\"text-align: right;\">\n      <th></th>\n      <th>date</th>\n      <th>open</th>\n      <th>high</th>\n      <th>low</th>\n      <th>close</th>\n      <th>volume</th>\n      <th>tic</th>\n      <th>day</th>\n      <th>macd</th>\n      <th>boll_ub</th>\n      <th>...</th>\n      <th>close_30_sma</th>\n      <th>close_60_sma</th>\n      <th>turbulence</th>\n      <th>vix</th>\n      <th>stocktwitsPosts</th>\n      <th>stocktwitsLikes</th>\n      <th>stocktwitsImpressions</th>\n      <th>stocktwitsSentiment</th>\n      <th>random</th>\n      <th>change</th>\n    </tr>\n    <tr>\n      <th>index</th>\n      <th></th>\n      <th></th>\n      <th></th>\n      <th></th>\n      <th></th>\n      <th></th>\n      <th></th>\n      <th></th>\n      <th></th>\n      <th></th>\n      <th></th>\n      <th></th>\n      <th></th>\n      <th></th>\n      <th></th>\n      <th></th>\n      <th></th>\n      <th></th>\n      <th></th>\n      <th></th>\n      <th></th>\n    </tr>\n  </thead>\n  <tbody>\n    <tr>\n      <th>0</th>\n      <td>2021-11-24 14:00:00</td>\n      <td>64.016138</td>\n      <td>63.988587</td>\n      <td>64.138571</td>\n      <td>63.994663</td>\n      <td>36.200417</td>\n      <td>AAPL</td>\n      <td>186.666667</td>\n      <td>165.183339</td>\n      <td>63.770385</td>\n      <td>...</td>\n      <td>64.512513</td>\n      <td>64.465603</td>\n      <td>20.000000</td>\n      <td>161.582472</td>\n      <td>42.666667</td>\n      <td>50.877193</td>\n      <td>47.542370</td>\n      <td>126.571143</td>\n      <td>98.931973</td>\n      <td>118.329497</td>\n    </tr>\n    <tr>\n      <th>0</th>\n      <td>2021-11-24 14:00:00</td>\n      <td>34.827192</td>\n      <td>34.786757</td>\n      <td>34.875852</td>\n      <td>34.787895</td>\n      <td>22.318159</td>\n      <td>C</td>\n      <td>186.666667</td>\n      <td>165.183339</td>\n      <td>63.770385</td>\n      <td>...</td>\n      <td>34.921095</td>\n      <td>34.865256</td>\n      <td>20.000000</td>\n      <td>161.582472</td>\n      <td>20.000000</td>\n      <td>20.000000</td>\n      <td>20.000076</td>\n      <td>101.033996</td>\n      <td>157.205789</td>\n      <td>89.135219</td>\n    </tr>\n    <tr>\n      <th>0</th>\n      <td>2021-11-24 14:00:00</td>\n      <td>63.735181</td>\n      <td>63.672157</td>\n      <td>63.905794</td>\n      <td>63.757846</td>\n      <td>21.514435</td>\n      <td>JPM</td>\n      <td>186.666667</td>\n      <td>165.183339</td>\n      <td>63.770385</td>\n      <td>...</td>\n      <td>64.272577</td>\n      <td>64.225594</td>\n      <td>20.000000</td>\n      <td>161.582472</td>\n      <td>20.888889</td>\n      <td>20.701754</td>\n      <td>26.727835</td>\n      <td>105.423009</td>\n      <td>120.330185</td>\n      <td>90.839940</td>\n    </tr>\n    <tr>\n      <th>0</th>\n      <td>2021-11-24 14:00:00</td>\n      <td>130.541469</td>\n      <td>130.440677</td>\n      <td>130.775316</td>\n      <td>130.459383</td>\n      <td>20.361236</td>\n      <td>GS</td>\n      <td>186.666667</td>\n      <td>165.183339</td>\n      <td>63.770385</td>\n      <td>...</td>\n      <td>131.852568</td>\n      <td>131.825974</td>\n      <td>20.000000</td>\n      <td>161.582472</td>\n      <td>20.222222</td>\n      <td>20.000000</td>\n      <td>20.000152</td>\n      <td>95.234946</td>\n      <td>25.776899</td>\n      <td>148.410179</td>\n    </tr>\n    <tr>\n      <th>0</th>\n      <td>2021-11-24 14:00:00</td>\n      <td>59.892214</td>\n      <td>59.926327</td>\n      <td>60.099197</td>\n      <td>59.973923</td>\n      <td>21.520549</td>\n      <td>GOOGL</td>\n      <td>186.666667</td>\n      <td>165.183339</td>\n      <td>63.770385</td>\n      <td>...</td>\n      <td>60.438820</td>\n      <td>60.390680</td>\n      <td>20.000000</td>\n      <td>161.582472</td>\n      <td>20.444444</td>\n      <td>20.467836</td>\n      <td>20.021326</td>\n      <td>117.011256</td>\n      <td>85.722364</td>\n      <td>117.260396</td>\n    </tr>\n    <tr>\n      <th>...</th>\n      <td>...</td>\n      <td>...</td>\n      <td>...</td>\n      <td>...</td>\n      <td>...</td>\n      <td>...</td>\n      <td>...</td>\n      <td>...</td>\n      <td>...</td>\n      <td>...</td>\n      <td>...</td>\n      <td>...</td>\n      <td>...</td>\n      <td>...</td>\n      <td>...</td>\n      <td>...</td>\n      <td>...</td>\n      <td>...</td>\n      <td>...</td>\n      <td>...</td>\n      <td>...</td>\n    </tr>\n    <tr>\n      <th>2481</th>\n      <td>2023-04-26 10:00:00</td>\n      <td>33.792582</td>\n      <td>33.865849</td>\n      <td>33.862281</td>\n      <td>33.916735</td>\n      <td>26.899892</td>\n      <td>MU</td>\n      <td>53.333333</td>\n      <td>163.224511</td>\n      <td>34.201409</td>\n      <td>...</td>\n      <td>34.107749</td>\n      <td>34.309595</td>\n      <td>26.939494</td>\n      <td>89.575858</td>\n      <td>20.000000</td>\n      <td>20.000000</td>\n      <td>20.000076</td>\n      <td>20.000000</td>\n      <td>83.332440</td>\n      <td>82.627833</td>\n    </tr>\n    <tr>\n      <th>2481</th>\n      <td>2023-04-26 10:00:00</td>\n      <td>72.236463</td>\n      <td>72.157490</td>\n      <td>72.275134</td>\n      <td>72.050396</td>\n      <td>20.708630</td>\n      <td>PEP</td>\n      <td>53.333333</td>\n      <td>168.969054</td>\n      <td>72.224435</td>\n      <td>...</td>\n      <td>72.188957</td>\n      <td>71.762582</td>\n      <td>26.939494</td>\n      <td>89.575858</td>\n      <td>20.222222</td>\n      <td>20.000000</td>\n      <td>22.730501</td>\n      <td>120.000000</td>\n      <td>31.296705</td>\n      <td>143.657790</td>\n    </tr>\n    <tr>\n      <th>2481</th>\n      <td>2023-04-26 10:00:00</td>\n      <td>34.886468</td>\n      <td>34.858618</td>\n      <td>34.961660</td>\n      <td>34.890082</td>\n      <td>22.787461</td>\n      <td>KO</td>\n      <td>53.333333</td>\n      <td>165.092509</td>\n      <td>34.878597</td>\n      <td>...</td>\n      <td>35.123417</td>\n      <td>34.976815</td>\n      <td>26.939494</td>\n      <td>89.575858</td>\n      <td>20.222222</td>\n      <td>20.000000</td>\n      <td>20.776658</td>\n      <td>129.360000</td>\n      <td>73.625456</td>\n      <td>94.493198</td>\n    </tr>\n    <tr>\n      <th>2481</th>\n      <td>2023-04-26 10:00:00</td>\n      <td>29.783582</td>\n      <td>29.745920</td>\n      <td>29.822907</td>\n      <td>29.742260</td>\n      <td>22.494708</td>\n      <td>MO</td>\n      <td>53.333333</td>\n      <td>166.270508</td>\n      <td>29.659074</td>\n      <td>...</td>\n      <td>29.580931</td>\n      <td>29.408999</td>\n      <td>26.939494</td>\n      <td>89.575858</td>\n      <td>20.355556</td>\n      <td>21.169591</td>\n      <td>20.020488</td>\n      <td>148.660000</td>\n      <td>72.949339</td>\n      <td>80.221424</td>\n    </tr>\n    <tr>\n      <th>2481</th>\n      <td>2023-04-26 10:00:00</td>\n      <td>29.808986</td>\n      <td>29.753770</td>\n      <td>29.733143</td>\n      <td>29.642197</td>\n      <td>27.504058</td>\n      <td>C</td>\n      <td>53.333333</td>\n      <td>163.595012</td>\n      <td>30.312167</td>\n      <td>...</td>\n      <td>30.299081</td>\n      <td>30.345990</td>\n      <td>26.939494</td>\n      <td>89.575858</td>\n      <td>20.567901</td>\n      <td>20.000000</td>\n      <td>20.473037</td>\n      <td>128.513333</td>\n      <td>49.403583</td>\n      <td>108.212920</td>\n    </tr>\n  </tbody>\n</table>\n<p>74460 rows × 24 columns</p>\n</div>"
     },
     "execution_count": 35,
     "metadata": {},
     "output_type": "execute_result"
    }
   ],
   "source": [
    "train"
   ],
   "metadata": {
    "collapsed": false,
    "ExecuteTime": {
     "end_time": "2023-09-09T19:31:29.955339600Z",
     "start_time": "2023-09-09T19:31:29.865858Z"
    }
   },
   "id": "fb64dd0e6843d4f3"
  },
  {
   "cell_type": "markdown",
   "source": [
    "Goal for generated data: one more column for sentiment for each day --> Merge on \"tic\" and \"date\""
   ],
   "metadata": {
    "collapsed": false
   },
   "id": "542fe9261a1c232b"
  },
  {
   "cell_type": "markdown",
   "source": [
    "## Construct the environment"
   ],
   "metadata": {
    "collapsed": false
   },
   "id": "c20109fe9f949d9c"
  },
  {
   "cell_type": "markdown",
   "source": [
    "Calculate and specify the parameters we need for constructing the environment."
   ],
   "metadata": {
    "collapsed": false
   },
   "id": "8e23abd744220ffa"
  },
  {
   "cell_type": "code",
   "execution_count": 38,
   "outputs": [],
   "source": [
    "INDICATORS.append('vix')\n",
    "\n",
    "INDICATORS = ['macd',\n",
    " 'boll_ub',\n",
    " 'boll_lb',\n",
    " 'rsi_30',\n",
    " 'cci_30',\n",
    " 'dx_30',\n",
    " 'close_30_sma',\n",
    " 'close_60_sma',\n",
    " 'vix']"
   ],
   "metadata": {
    "collapsed": false,
    "ExecuteTime": {
     "end_time": "2023-09-09T19:32:02.272171300Z",
     "start_time": "2023-09-09T19:32:02.208166900Z"
    }
   },
   "id": "adb6de9a2e3708cf"
  },
  {
   "cell_type": "code",
   "execution_count": 40,
   "outputs": [
    {
     "data": {
      "text/plain": "['macd',\n 'boll_ub',\n 'boll_lb',\n 'rsi_30',\n 'cci_30',\n 'dx_30',\n 'close_30_sma',\n 'close_60_sma',\n 'vix']"
     },
     "execution_count": 40,
     "metadata": {},
     "output_type": "execute_result"
    }
   ],
   "source": [
    "INDICATORS"
   ],
   "metadata": {
    "collapsed": false,
    "ExecuteTime": {
     "end_time": "2023-09-09T19:32:13.972154500Z",
     "start_time": "2023-09-09T19:32:13.934717100Z"
    }
   },
   "id": "8a61d521dd956402"
  },
  {
   "cell_type": "code",
   "execution_count": 41,
   "outputs": [],
   "source": [
    "SENTIMENT = ['random', 'stocktwitsPosts', 'stocktwitsLikes', 'stocktwitsImpressions', 'stocktwitsSentiment']\n",
    "#'stocktwitsPosts', 'stocktwitsLikes', 'stocktwitsImpressions', 'stocktwitsSentiment', "
   ],
   "metadata": {
    "collapsed": false,
    "ExecuteTime": {
     "end_time": "2023-09-09T19:32:19.575500200Z",
     "start_time": "2023-09-09T19:32:19.549868700Z"
    }
   },
   "id": "55c649e944430cd6"
  },
  {
   "cell_type": "code",
   "execution_count": 42,
   "outputs": [
    {
     "name": "stdout",
     "output_type": "stream",
     "text": [
      "Stock Dimension: 30, State Space: 541\n"
     ]
    }
   ],
   "source": [
    "stock_dimension = len(train.tic.unique())\n",
    "state_space = 1 + 4 * stock_dimension + len(INDICATORS) * stock_dimension + len(SENTIMENT) * stock_dimension\n",
    "print(f\"Stock Dimension: {stock_dimension}, State Space: {state_space}\")"
   ],
   "metadata": {
    "collapsed": false,
    "ExecuteTime": {
     "end_time": "2023-09-09T19:32:20.319072700Z",
     "start_time": "2023-09-09T19:32:20.263353500Z"
    }
   },
   "id": "9bda42fd99847701"
  },
  {
   "cell_type": "code",
   "execution_count": 43,
   "outputs": [],
   "source": [
    "seed = 0\n",
    "hourly = False"
   ],
   "metadata": {
    "collapsed": false,
    "ExecuteTime": {
     "end_time": "2023-09-09T19:32:21.083935200Z",
     "start_time": "2023-09-09T19:32:21.051220500Z"
    }
   },
   "id": "af66ef69d0b6dd81"
  },
  {
   "cell_type": "code",
   "execution_count": 44,
   "outputs": [],
   "source": [
    "buy_cost_list = sell_cost_list = [0.01] * stock_dimension\n",
    "num_stock_shares = [0] * stock_dimension\n",
    "\n",
    "env_kwargs = {\n",
    "    \"hmax\": 100,\n",
    "    \"initial_amount\": 1000000,\n",
    "    \"num_stock_shares\": num_stock_shares,\n",
    "    \"buy_cost_pct\": buy_cost_list,\n",
    "    \"sell_cost_pct\": sell_cost_list,\n",
    "    \"state_space\": state_space,\n",
    "    \"stock_dim\": stock_dimension,\n",
    "    \"tech_indicator_list\": INDICATORS,\n",
    "    \"sentiment_list\": SENTIMENT,\n",
    "    \"action_space\": stock_dimension,\n",
    "    \"reward_scaling\": 1e-4,\n",
    "    \"seed\": seed,\n",
    "    \"hourly\": hourly\n",
    "}\n",
    "\n",
    "\n",
    "e_train_gym = StockTradingEnv(df = train,risk_indicator_col='vix', **env_kwargs)"
   ],
   "metadata": {
    "collapsed": false,
    "ExecuteTime": {
     "end_time": "2023-09-09T19:32:21.802826200Z",
     "start_time": "2023-09-09T19:32:21.699033100Z"
    }
   },
   "id": "d940fbe5f19fa8f8"
  },
  {
   "cell_type": "markdown",
   "source": [
    "## Environment for training"
   ],
   "metadata": {
    "collapsed": false
   },
   "id": "120e81cf70c2e104"
  },
  {
   "cell_type": "code",
   "execution_count": 45,
   "outputs": [
    {
     "name": "stdout",
     "output_type": "stream",
     "text": [
      "<class 'stable_baselines3.common.vec_env.dummy_vec_env.DummyVecEnv'>\n"
     ]
    }
   ],
   "source": [
    "env_train, _ = e_train_gym.get_sb_env()\n",
    "print(type(env_train))"
   ],
   "metadata": {
    "collapsed": false,
    "ExecuteTime": {
     "end_time": "2023-09-09T19:32:23.778314200Z",
     "start_time": "2023-09-09T19:32:23.642073200Z"
    }
   },
   "id": "a403367adb8968fb"
  },
  {
   "cell_type": "markdown",
   "source": [
    "# Get onnx model"
   ],
   "metadata": {
    "collapsed": false
   },
   "id": "f42d115ef852ecae"
  },
  {
   "cell_type": "code",
   "execution_count": 47,
   "outputs": [],
   "source": [
    "saved_model_path = r\"C:\\Users\\potap\\FinARL\\automatic-stock-trading-applied-reinforcement-learning-sommer-term-2023\\Training and Testing\\Evaluation\\model\\hourly\\Sentiment\\ppo\\seed0.zip\""
   ],
   "metadata": {
    "collapsed": false,
    "ExecuteTime": {
     "end_time": "2023-09-09T19:32:36.694397600Z",
     "start_time": "2023-09-09T19:32:36.663626500Z"
    }
   },
   "id": "68f70820697582be"
  },
  {
   "cell_type": "code",
   "execution_count": 48,
   "outputs": [],
   "source": [
    "agent = DRLAgent(env = env_train)"
   ],
   "metadata": {
    "collapsed": false,
    "ExecuteTime": {
     "end_time": "2023-09-09T19:32:37.552260900Z",
     "start_time": "2023-09-09T19:32:37.513560500Z"
    }
   },
   "id": "43a6a632f9321844"
  },
  {
   "cell_type": "code",
   "execution_count": 49,
   "outputs": [
    {
     "name": "stdout",
     "output_type": "stream",
     "text": [
      "{'n_steps': 2048, 'ent_coef': 0.01, 'learning_rate': 0.00025, 'batch_size': 64}\n",
      "Using cpu device\n"
     ]
    }
   ],
   "source": [
    "model_a2c = agent.get_model(\"ppo\")"
   ],
   "metadata": {
    "collapsed": false,
    "ExecuteTime": {
     "end_time": "2023-09-09T19:32:38.292070300Z",
     "start_time": "2023-09-09T19:32:38.222720400Z"
    }
   },
   "id": "88ca4e2955d627ec"
  },
  {
   "cell_type": "code",
   "execution_count": 50,
   "outputs": [
    {
     "name": "stdout",
     "output_type": "stream",
     "text": [
      "-----------------------------------\n",
      "| time/              |            |\n",
      "|    fps             | 72         |\n",
      "|    iterations      | 1          |\n",
      "|    time_elapsed    | 28         |\n",
      "|    total_timesteps | 2048       |\n",
      "| train/             |            |\n",
      "|    reward          | -1.9694179 |\n",
      "-----------------------------------\n"
     ]
    }
   ],
   "source": [
    "trained_a2c = agent.train_model(model=model_a2c,\n",
    "                                tb_log_name='ppo',\n",
    "                                total_timesteps=500)"
   ],
   "metadata": {
    "collapsed": false,
    "ExecuteTime": {
     "end_time": "2023-09-09T19:33:22.420004300Z",
     "start_time": "2023-09-09T19:32:52.145956100Z"
    }
   },
   "id": "bb4c3a24e477058"
  },
  {
   "cell_type": "code",
   "execution_count": 51,
   "outputs": [],
   "source": [
    "loaded_agent = trained_a2c.load(saved_model_path)"
   ],
   "metadata": {
    "collapsed": false,
    "ExecuteTime": {
     "end_time": "2023-09-09T19:33:55.083053200Z",
     "start_time": "2023-09-09T19:33:55.030068200Z"
    }
   },
   "id": "7cd967f6c28bee2e"
  },
  {
   "cell_type": "code",
   "execution_count": 52,
   "outputs": [
    {
     "name": "stdout",
     "output_type": "stream",
     "text": [
      "============== Diagnostic Run torch.onnx.export version 2.0.1+cpu ==============\n",
      "verbose: False, log level: Level.ERROR\n",
      "======================= 0 NONE 0 NOTE 0 WARNING 0 ERROR ========================\n"
     ]
    },
    {
     "name": "stderr",
     "output_type": "stream",
     "text": [
      "C:\\Users\\potap\\FinARL\\venv_10\\lib\\site-packages\\stable_baselines3\\common\\distributions.py:87: TracerWarning: Converting a tensor to a Python boolean might cause the trace to be incorrect. We can't record the data flow of Python values, so this value will be treated as a constant in the future. This means that the trace might not generalize to other inputs!\n",
      "  if deterministic:\n"
     ]
    }
   ],
   "source": [
    "# Make sure your model is in evaluation mode\n",
    "loaded_agent.policy.eval()\n",
    "\n",
    "# generate dummy input\n",
    "observation_size = loaded_agent.observation_space.shape[0]\n",
    "dummy_input = torch.randn(1, observation_size)\n",
    "\n",
    "# Export the model to ONNX format\n",
    "torch.onnx.export(loaded_agent.policy, dummy_input, \"policy.onnx\")\n"
   ],
   "metadata": {
    "collapsed": false,
    "ExecuteTime": {
     "end_time": "2023-09-09T19:33:56.316991600Z",
     "start_time": "2023-09-09T19:33:56.100264300Z"
    }
   },
   "id": "6b554c85e1c234c7"
  },
  {
   "cell_type": "code",
   "execution_count": 53,
   "outputs": [
    {
     "name": "stdout",
     "output_type": "stream",
     "text": [
      "INFO:tensorflow:Assets written to: C:\\Users\\potap\\FinARL\\automatic-stock-trading-applied-reinforcement-learning-sommer-term-2023\\Generated Sentiment Data in FinRL\\HIERoutput.pb\\assets\n"
     ]
    },
    {
     "name": "stderr",
     "output_type": "stream",
     "text": [
      "INFO:tensorflow:Assets written to: C:\\Users\\potap\\FinARL\\automatic-stock-trading-applied-reinforcement-learning-sommer-term-2023\\Generated Sentiment Data in FinRL\\HIERoutput.pb\\assets\n"
     ]
    }
   ],
   "source": [
    "import onnx\n",
    "\n",
    "from onnx_tf.backend import prepare\n",
    "\n",
    "onnx_model = onnx.load(r\"C:\\Users\\potap\\FinARL\\automatic-stock-trading-applied-reinforcement-learning-sommer-term-2023\\Generated Sentiment Data in FinRL\\policy.onnx\")  # load onnx model\n",
    "tf_rep = prepare(onnx_model)  # prepare tf representation\n",
    "tf_rep.export_graph(r\"C:\\Users\\potap\\FinARL\\automatic-stock-trading-applied-reinforcement-learning-sommer-term-2023\\Generated Sentiment Data in FinRL\\HIERoutput.pb\")  # export the model"
   ],
   "metadata": {
    "collapsed": false,
    "ExecuteTime": {
     "end_time": "2023-09-09T19:33:59.853528400Z",
     "start_time": "2023-09-09T19:33:57.774647700Z"
    }
   },
   "id": "8d4e018f81516cc8"
  },
  {
   "cell_type": "code",
   "execution_count": 54,
   "outputs": [
    {
     "data": {
      "text/plain": "<ConcreteFunction signature_wrapper(*, obs) at 0x2CE8D5A4FD0>"
     },
     "execution_count": 54,
     "metadata": {},
     "output_type": "execute_result"
    }
   ],
   "source": [
    "import tensorflow as tf\n",
    "model_filename = r\"C:\\Users\\potap\\FinARL\\automatic-stock-trading-applied-reinforcement-learning-sommer-term-2023\\Generated Sentiment Data in FinRL\\HIERoutput.pb\"\n",
    "# Load the TensorFlow model\n",
    "model_loaded = tf.saved_model.load(model_filename)\n",
    "model_loaded = model_loaded.signatures['serving_default']\n",
    "model_loaded"
   ],
   "metadata": {
    "collapsed": false,
    "ExecuteTime": {
     "end_time": "2023-09-09T19:34:00.938892200Z",
     "start_time": "2023-09-09T19:34:00.815410400Z"
    }
   },
   "id": "f345a83ee1e919f"
  },
  {
   "cell_type": "markdown",
   "source": [
    "#  Sensitivity test"
   ],
   "metadata": {
    "collapsed": false
   },
   "id": "ddb5d05aafe07856"
  },
  {
   "cell_type": "code",
   "execution_count": 55,
   "outputs": [],
   "source": [
    "# generate dummy input\n",
    "#observation_size = model_loaded.observation_space.shape[0]\n",
    "dummy_input = torch.randn(1, 541)"
   ],
   "metadata": {
    "collapsed": false,
    "ExecuteTime": {
     "end_time": "2023-09-09T19:34:02.862842800Z",
     "start_time": "2023-09-09T19:34:02.755812900Z"
    }
   },
   "id": "2bc8218208ae7a19"
  },
  {
   "cell_type": "code",
   "execution_count": 26,
   "outputs": [],
   "source": [
    "xs = tf.convert_to_tensor(dummy_input)"
   ],
   "metadata": {
    "collapsed": false,
    "ExecuteTime": {
     "end_time": "2023-09-09T19:25:18.523443100Z",
     "start_time": "2023-09-09T19:25:18.491284100Z"
    }
   },
   "id": "b792d85b0763aca7"
  },
  {
   "cell_type": "code",
   "execution_count": 27,
   "outputs": [],
   "source": [
    "with tf.GradientTape() as tape:\n",
    "    tape.watch(xs)\n",
    "    pred = model_loaded(xs)\n",
    "    grads = tape.gradient(pred, xs)"
   ],
   "metadata": {
    "collapsed": false,
    "ExecuteTime": {
     "end_time": "2023-09-09T19:25:20.425252200Z",
     "start_time": "2023-09-09T19:25:19.717216400Z"
    }
   },
   "id": "c6f35e678d262d02"
  },
  {
   "cell_type": "code",
   "execution_count": null,
   "outputs": [],
   "source": [
    "assert (grads is not None) # sanity check\n",
    "grads = grads.numpy()\n",
    "abs_grads_sum = np.sum(np.abs(grads), axis=0)\n"
   ],
   "metadata": {
    "collapsed": false,
    "ExecuteTime": {
     "start_time": "2023-09-09T19:19:45.071765800Z"
    }
   },
   "id": "52e9952efded3b0f"
  },
  {
   "cell_type": "code",
   "execution_count": 26,
   "outputs": [
    {
     "data": {
      "text/plain": "array([6.141937  , 2.0792143 , 1.1400537 , 2.5549965 , 0.25538453,\n       0.1457287 , 0.91045415, 0.96804583, 1.9791678 , 0.5729369 ,\n       1.5138545 , 4.8658857 , 2.0542839 , 8.757634  , 2.349398  ,\n       0.69924116, 0.51150405, 0.30408013, 2.6819537 , 1.6688392 ,\n       0.86045796, 2.3970149 , 4.1402144 , 2.1240876 , 3.4856312 ,\n       1.8171442 , 0.95222837, 5.228218  , 2.5927901 , 3.7669134 ,\n       4.3272204 , 2.3591924 , 3.966771  , 2.1997342 , 0.16204202,\n       2.7498965 , 2.9850717 , 5.7253227 , 1.7466173 , 4.11631   ,\n       3.633401  , 0.22664887, 4.170761  , 2.1862285 , 1.8478186 ,\n       2.5734751 , 1.0064908 , 1.0574986 , 2.846866  , 0.23595265,\n       0.42381045, 2.6337516 , 1.8567915 , 0.72375774, 1.3361348 ,\n       1.9963938 , 5.43626   , 1.2364389 , 5.980402  , 5.040382  ,\n       0.66498214, 1.7261225 , 2.0128493 , 0.21035725, 1.1941941 ,\n       3.3602214 , 0.70596945, 1.2577521 , 2.3316288 , 2.774733  ,\n       0.28998908, 0.36586928, 3.451414  , 3.371114  , 2.7231681 ,\n       1.2335205 , 6.1781244 , 1.8132825 , 2.3203502 , 3.0674086 ,\n       0.8566422 , 4.5844235 , 0.39279056, 1.2411984 , 1.5330278 ,\n       2.1832685 , 2.965511  , 1.0942458 , 3.7570348 , 4.1021    ,\n       3.5140586 , 2.9354348 , 0.4973368 , 4.7483788 , 2.1511302 ,\n       5.515049  , 0.12752083, 1.0679861 , 4.9149227 , 1.3041267 ,\n       4.5172973 , 0.48398954, 2.9032414 , 1.1955421 , 1.0197634 ,\n       0.64965045, 1.715682  , 2.764593  , 3.6000645 , 1.7591258 ,\n       5.6777983 , 0.68050086, 3.0507874 , 5.030705  , 0.44375172,\n       0.18327828, 0.8199081 , 2.2369897 , 3.5607438 , 3.065425  ,\n       3.356117  , 2.901316  , 6.67516   , 5.19664   , 3.416418  ,\n       1.6145643 , 0.58362985, 2.4858491 , 0.2641466 , 3.003596  ,\n       0.5516802 , 4.0694675 , 3.0073423 , 1.3926263 , 3.0267706 ,\n       1.2368248 , 6.161122  , 2.1272244 , 0.38093123, 0.87657756,\n       0.32637894, 1.4080423 , 0.7281579 , 3.5848038 , 1.7594825 ,\n       2.4157007 , 0.6876098 , 1.7799922 , 3.874912  , 5.0105033 ,\n       2.0188334 , 2.2243643 , 7.2454395 , 0.79758555, 2.6884656 ,\n       1.3206267 , 6.1537623 , 3.118925  , 5.63625   , 1.4837296 ,\n       7.0823717 , 3.0013838 , 6.169024  , 4.201086  , 2.466676  ,\n       1.8752034 , 0.7073802 , 0.22268695, 1.7851222 , 2.0144994 ,\n       0.8464732 , 1.9271675 , 5.3330035 , 1.1390891 , 5.538004  ,\n       5.328872  , 4.628668  , 6.3110924 , 2.7986584 , 2.8283012 ,\n       6.292122  , 0.91011125, 1.014471  , 4.33003   , 4.4057603 ,\n       1.9405262 , 0.37681672, 4.650596  , 2.5639756 , 1.4240848 ,\n       0.07414909, 5.101523  , 1.637876  , 0.5551585 , 0.9576527 ,\n       1.073797  , 1.3621681 , 2.1053357 , 6.983774  , 1.4974163 ,\n       5.9768214 , 1.0529004 , 2.4033248 , 0.11467676, 3.8820891 ,\n       0.9093549 , 0.544598  , 1.3127987 , 0.5959382 , 1.5760286 ,\n       5.142994  , 3.268508  , 3.0244212 , 5.020757  , 3.1320999 ,\n       1.0887145 , 4.187265  , 3.4501173 , 0.49245295, 0.7774366 ,\n       2.5005093 , 5.192608  , 3.512691  , 1.835224  , 1.2983552 ,\n       1.1708071 , 6.1419206 , 1.0132054 , 4.6042047 , 3.5368137 ,\n       3.1960118 , 7.6163497 , 4.2420206 , 0.47005224, 2.3078353 ,\n       3.8595443 , 1.9653928 , 4.9266505 , 3.1113982 , 3.6002488 ,\n       1.6620612 , 3.4498804 , 1.8545778 , 1.3264635 , 2.645699  ,\n       1.8488592 , 1.3240902 , 0.64567   , 4.059629  , 1.3279141 ,\n       4.675069  , 1.4202552 , 2.8800786 , 6.882392  , 1.5966443 ,\n       4.3235435 , 5.213438  , 1.109788  , 0.45359302, 7.2610207 ,\n       1.3068876 , 1.430515  , 5.393264  , 0.5474596 , 3.5474727 ,\n       0.28175545, 0.9133612 , 4.01909   , 3.3858366 , 3.5014908 ,\n       0.9960327 , 5.256011  , 1.8778241 , 1.3032578 , 1.390366  ,\n       4.340025  , 2.0023375 , 2.1861088 , 0.7428534 , 1.2978044 ,\n       2.1103659 , 5.293776  , 4.873307  , 1.3713686 , 0.4738404 ,\n       2.9028072 , 9.954176  , 0.75881755, 5.6271033 , 4.3380814 ,\n       0.9347912 , 0.92247015, 7.6195984 , 1.5090725 , 0.18820935,\n       1.5475991 , 1.6281345 , 3.881871  , 1.797838  , 1.8394697 ,\n       4.8112955 , 4.3291807 , 0.60329795, 0.84368694, 4.2674756 ,\n       2.5452683 , 3.254255  , 2.9736092 , 0.8983643 , 1.129862  ,\n       2.7714257 , 0.4265374 , 6.347722  , 1.6605197 , 1.3647233 ,\n       3.3369765 , 2.4714606 , 0.8827661 , 5.0824027 , 3.0290878 ,\n       4.914823  , 1.3661478 , 3.652366  , 0.73740834, 1.9165766 ,\n       1.4932235 , 2.1008208 , 0.7837105 , 1.5132242 , 2.8011954 ,\n       4.2096972 , 3.2337809 , 1.0556865 , 0.11598082, 2.7825418 ,\n       1.202589  , 1.4065542 , 0.47121912, 2.020069  , 2.9793043 ,\n       2.741593  , 3.899403  , 1.2937626 , 3.9736125 , 4.1921425 ,\n       4.9316974 , 1.7585049 , 2.9792318 , 2.4554143 , 2.0383713 ,\n       0.08225445, 4.554313  , 2.363118  , 0.64824486, 3.9956431 ,\n       1.7134916 , 3.335914  , 0.5552634 , 1.7905093 , 5.1026964 ,\n       4.6357856 , 9.977972  , 3.5515916 , 1.9330213 , 0.24963233,\n       3.3676238 , 6.5813417 , 4.398479  , 0.5900596 , 4.5157137 ,\n       0.943419  , 1.6333072 , 0.10685823, 1.6688554 , 1.0227077 ,\n       0.12896708, 0.78185374, 1.9068141 , 3.0056455 , 5.1678414 ,\n       1.9108568 , 3.915812  , 0.18428856, 6.109784  , 0.50186867,\n       0.04773925, 5.130548  , 4.518019  , 1.6429645 , 1.3317261 ,\n       0.79169536, 2.4443657 , 3.3449647 , 2.270145  , 1.6412407 ,\n       0.46526706, 4.9778094 , 4.45969   , 2.2288628 , 0.20590304,\n       0.8258114 , 2.2204938 , 4.42164   , 5.442463  , 2.4276607 ,\n       8.417914  , 1.3914739 , 5.0389843 , 3.3203495 , 1.8961638 ,\n       2.537658  , 1.0858207 , 1.1504691 , 0.2942401 , 3.3418684 ,\n       1.267162  , 5.106848  , 2.0602918 , 1.9134471 , 5.799992  ,\n       2.3413234 ], dtype=float32)"
     },
     "execution_count": 26,
     "metadata": {},
     "output_type": "execute_result"
    }
   ],
   "source": [
    "abs_grads_sum"
   ],
   "metadata": {
    "collapsed": false,
    "ExecuteTime": {
     "end_time": "2023-09-09T18:03:07.871316100Z",
     "start_time": "2023-09-09T18:03:07.705339Z"
    }
   },
   "id": "1f4b558e5be9543e"
  },
  {
   "cell_type": "markdown",
   "source": [
    "# Unsere Data"
   ],
   "metadata": {
    "collapsed": false
   },
   "id": "ee327c0137bfbe63"
  },
  {
   "cell_type": "code",
   "execution_count": 56,
   "outputs": [],
   "source": [
    "num_stock_shares = 30*[0]"
   ],
   "metadata": {
    "collapsed": false,
    "ExecuteTime": {
     "end_time": "2023-09-09T19:34:07.740229100Z",
     "start_time": "2023-09-09T19:34:07.698286700Z"
    }
   },
   "id": "ffad297fe1bab076"
  },
  {
   "cell_type": "code",
   "execution_count": 57,
   "outputs": [
    {
     "data": {
      "text/plain": "                      date        open        high         low       close  \\\nindex                                                                        \n0      2021-11-24 14:00:00   64.016138   63.988587   64.138571   63.994663   \n0      2021-11-24 14:00:00   34.827192   34.786757   34.875852   34.787895   \n0      2021-11-24 14:00:00   63.735181   63.672157   63.905794   63.757846   \n0      2021-11-24 14:00:00  130.541469  130.440677  130.775316  130.459383   \n0      2021-11-24 14:00:00   59.892214   59.926327   60.099197   59.973923   \n...                    ...         ...         ...         ...         ...   \n2481   2023-04-26 10:00:00   33.792582   33.865849   33.862281   33.916735   \n2481   2023-04-26 10:00:00   72.236463   72.157490   72.275134   72.050396   \n2481   2023-04-26 10:00:00   34.886468   34.858618   34.961660   34.890082   \n2481   2023-04-26 10:00:00   29.783582   29.745920   29.822907   29.742260   \n2481   2023-04-26 10:00:00   29.808986   29.753770   29.733143   29.642197   \n\n          volume    tic         day        macd    boll_ub  ...  close_30_sma  \\\nindex                                                       ...                 \n0      36.200417   AAPL  186.666667  165.183339  63.770385  ...     64.512513   \n0      22.318159      C  186.666667  165.183339  63.770385  ...     34.921095   \n0      21.514435    JPM  186.666667  165.183339  63.770385  ...     64.272577   \n0      20.361236     GS  186.666667  165.183339  63.770385  ...    131.852568   \n0      21.520549  GOOGL  186.666667  165.183339  63.770385  ...     60.438820   \n...          ...    ...         ...         ...        ...  ...           ...   \n2481   26.899892     MU   53.333333  163.224511  34.201409  ...     34.107749   \n2481   20.708630    PEP   53.333333  168.969054  72.224435  ...     72.188957   \n2481   22.787461     KO   53.333333  165.092509  34.878597  ...     35.123417   \n2481   22.494708     MO   53.333333  166.270508  29.659074  ...     29.580931   \n2481   27.504058      C   53.333333  163.595012  30.312167  ...     30.299081   \n\n       close_60_sma  turbulence         vix  stocktwitsPosts  stocktwitsLikes  \\\nindex                                                                           \n0         64.465603   20.000000  161.582472        42.666667        50.877193   \n0         34.865256   20.000000  161.582472        20.000000        20.000000   \n0         64.225594   20.000000  161.582472        20.888889        20.701754   \n0        131.825974   20.000000  161.582472        20.222222        20.000000   \n0         60.390680   20.000000  161.582472        20.444444        20.467836   \n...             ...         ...         ...              ...              ...   \n2481      34.309595   26.939494   89.575858        20.000000        20.000000   \n2481      71.762582   26.939494   89.575858        20.222222        20.000000   \n2481      34.976815   26.939494   89.575858        20.222222        20.000000   \n2481      29.408999   26.939494   89.575858        20.355556        21.169591   \n2481      30.345990   26.939494   89.575858        20.567901        20.000000   \n\n       stocktwitsImpressions  stocktwitsSentiment      random      change  \nindex                                                                      \n0                  47.542370           126.571143   98.931973  118.329497  \n0                  20.000076           101.033996  157.205789   89.135219  \n0                  26.727835           105.423009  120.330185   90.839940  \n0                  20.000152            95.234946   25.776899  148.410179  \n0                  20.021326           117.011256   85.722364  117.260396  \n...                      ...                  ...         ...         ...  \n2481               20.000076            20.000000   83.332440   82.627833  \n2481               22.730501           120.000000   31.296705  143.657790  \n2481               20.776658           129.360000   73.625456   94.493198  \n2481               20.020488           148.660000   72.949339   80.221424  \n2481               20.473037           128.513333   49.403583  108.212920  \n\n[74460 rows x 24 columns]",
      "text/html": "<div>\n<style scoped>\n    .dataframe tbody tr th:only-of-type {\n        vertical-align: middle;\n    }\n\n    .dataframe tbody tr th {\n        vertical-align: top;\n    }\n\n    .dataframe thead th {\n        text-align: right;\n    }\n</style>\n<table border=\"1\" class=\"dataframe\">\n  <thead>\n    <tr style=\"text-align: right;\">\n      <th></th>\n      <th>date</th>\n      <th>open</th>\n      <th>high</th>\n      <th>low</th>\n      <th>close</th>\n      <th>volume</th>\n      <th>tic</th>\n      <th>day</th>\n      <th>macd</th>\n      <th>boll_ub</th>\n      <th>...</th>\n      <th>close_30_sma</th>\n      <th>close_60_sma</th>\n      <th>turbulence</th>\n      <th>vix</th>\n      <th>stocktwitsPosts</th>\n      <th>stocktwitsLikes</th>\n      <th>stocktwitsImpressions</th>\n      <th>stocktwitsSentiment</th>\n      <th>random</th>\n      <th>change</th>\n    </tr>\n    <tr>\n      <th>index</th>\n      <th></th>\n      <th></th>\n      <th></th>\n      <th></th>\n      <th></th>\n      <th></th>\n      <th></th>\n      <th></th>\n      <th></th>\n      <th></th>\n      <th></th>\n      <th></th>\n      <th></th>\n      <th></th>\n      <th></th>\n      <th></th>\n      <th></th>\n      <th></th>\n      <th></th>\n      <th></th>\n      <th></th>\n    </tr>\n  </thead>\n  <tbody>\n    <tr>\n      <th>0</th>\n      <td>2021-11-24 14:00:00</td>\n      <td>64.016138</td>\n      <td>63.988587</td>\n      <td>64.138571</td>\n      <td>63.994663</td>\n      <td>36.200417</td>\n      <td>AAPL</td>\n      <td>186.666667</td>\n      <td>165.183339</td>\n      <td>63.770385</td>\n      <td>...</td>\n      <td>64.512513</td>\n      <td>64.465603</td>\n      <td>20.000000</td>\n      <td>161.582472</td>\n      <td>42.666667</td>\n      <td>50.877193</td>\n      <td>47.542370</td>\n      <td>126.571143</td>\n      <td>98.931973</td>\n      <td>118.329497</td>\n    </tr>\n    <tr>\n      <th>0</th>\n      <td>2021-11-24 14:00:00</td>\n      <td>34.827192</td>\n      <td>34.786757</td>\n      <td>34.875852</td>\n      <td>34.787895</td>\n      <td>22.318159</td>\n      <td>C</td>\n      <td>186.666667</td>\n      <td>165.183339</td>\n      <td>63.770385</td>\n      <td>...</td>\n      <td>34.921095</td>\n      <td>34.865256</td>\n      <td>20.000000</td>\n      <td>161.582472</td>\n      <td>20.000000</td>\n      <td>20.000000</td>\n      <td>20.000076</td>\n      <td>101.033996</td>\n      <td>157.205789</td>\n      <td>89.135219</td>\n    </tr>\n    <tr>\n      <th>0</th>\n      <td>2021-11-24 14:00:00</td>\n      <td>63.735181</td>\n      <td>63.672157</td>\n      <td>63.905794</td>\n      <td>63.757846</td>\n      <td>21.514435</td>\n      <td>JPM</td>\n      <td>186.666667</td>\n      <td>165.183339</td>\n      <td>63.770385</td>\n      <td>...</td>\n      <td>64.272577</td>\n      <td>64.225594</td>\n      <td>20.000000</td>\n      <td>161.582472</td>\n      <td>20.888889</td>\n      <td>20.701754</td>\n      <td>26.727835</td>\n      <td>105.423009</td>\n      <td>120.330185</td>\n      <td>90.839940</td>\n    </tr>\n    <tr>\n      <th>0</th>\n      <td>2021-11-24 14:00:00</td>\n      <td>130.541469</td>\n      <td>130.440677</td>\n      <td>130.775316</td>\n      <td>130.459383</td>\n      <td>20.361236</td>\n      <td>GS</td>\n      <td>186.666667</td>\n      <td>165.183339</td>\n      <td>63.770385</td>\n      <td>...</td>\n      <td>131.852568</td>\n      <td>131.825974</td>\n      <td>20.000000</td>\n      <td>161.582472</td>\n      <td>20.222222</td>\n      <td>20.000000</td>\n      <td>20.000152</td>\n      <td>95.234946</td>\n      <td>25.776899</td>\n      <td>148.410179</td>\n    </tr>\n    <tr>\n      <th>0</th>\n      <td>2021-11-24 14:00:00</td>\n      <td>59.892214</td>\n      <td>59.926327</td>\n      <td>60.099197</td>\n      <td>59.973923</td>\n      <td>21.520549</td>\n      <td>GOOGL</td>\n      <td>186.666667</td>\n      <td>165.183339</td>\n      <td>63.770385</td>\n      <td>...</td>\n      <td>60.438820</td>\n      <td>60.390680</td>\n      <td>20.000000</td>\n      <td>161.582472</td>\n      <td>20.444444</td>\n      <td>20.467836</td>\n      <td>20.021326</td>\n      <td>117.011256</td>\n      <td>85.722364</td>\n      <td>117.260396</td>\n    </tr>\n    <tr>\n      <th>...</th>\n      <td>...</td>\n      <td>...</td>\n      <td>...</td>\n      <td>...</td>\n      <td>...</td>\n      <td>...</td>\n      <td>...</td>\n      <td>...</td>\n      <td>...</td>\n      <td>...</td>\n      <td>...</td>\n      <td>...</td>\n      <td>...</td>\n      <td>...</td>\n      <td>...</td>\n      <td>...</td>\n      <td>...</td>\n      <td>...</td>\n      <td>...</td>\n      <td>...</td>\n      <td>...</td>\n    </tr>\n    <tr>\n      <th>2481</th>\n      <td>2023-04-26 10:00:00</td>\n      <td>33.792582</td>\n      <td>33.865849</td>\n      <td>33.862281</td>\n      <td>33.916735</td>\n      <td>26.899892</td>\n      <td>MU</td>\n      <td>53.333333</td>\n      <td>163.224511</td>\n      <td>34.201409</td>\n      <td>...</td>\n      <td>34.107749</td>\n      <td>34.309595</td>\n      <td>26.939494</td>\n      <td>89.575858</td>\n      <td>20.000000</td>\n      <td>20.000000</td>\n      <td>20.000076</td>\n      <td>20.000000</td>\n      <td>83.332440</td>\n      <td>82.627833</td>\n    </tr>\n    <tr>\n      <th>2481</th>\n      <td>2023-04-26 10:00:00</td>\n      <td>72.236463</td>\n      <td>72.157490</td>\n      <td>72.275134</td>\n      <td>72.050396</td>\n      <td>20.708630</td>\n      <td>PEP</td>\n      <td>53.333333</td>\n      <td>168.969054</td>\n      <td>72.224435</td>\n      <td>...</td>\n      <td>72.188957</td>\n      <td>71.762582</td>\n      <td>26.939494</td>\n      <td>89.575858</td>\n      <td>20.222222</td>\n      <td>20.000000</td>\n      <td>22.730501</td>\n      <td>120.000000</td>\n      <td>31.296705</td>\n      <td>143.657790</td>\n    </tr>\n    <tr>\n      <th>2481</th>\n      <td>2023-04-26 10:00:00</td>\n      <td>34.886468</td>\n      <td>34.858618</td>\n      <td>34.961660</td>\n      <td>34.890082</td>\n      <td>22.787461</td>\n      <td>KO</td>\n      <td>53.333333</td>\n      <td>165.092509</td>\n      <td>34.878597</td>\n      <td>...</td>\n      <td>35.123417</td>\n      <td>34.976815</td>\n      <td>26.939494</td>\n      <td>89.575858</td>\n      <td>20.222222</td>\n      <td>20.000000</td>\n      <td>20.776658</td>\n      <td>129.360000</td>\n      <td>73.625456</td>\n      <td>94.493198</td>\n    </tr>\n    <tr>\n      <th>2481</th>\n      <td>2023-04-26 10:00:00</td>\n      <td>29.783582</td>\n      <td>29.745920</td>\n      <td>29.822907</td>\n      <td>29.742260</td>\n      <td>22.494708</td>\n      <td>MO</td>\n      <td>53.333333</td>\n      <td>166.270508</td>\n      <td>29.659074</td>\n      <td>...</td>\n      <td>29.580931</td>\n      <td>29.408999</td>\n      <td>26.939494</td>\n      <td>89.575858</td>\n      <td>20.355556</td>\n      <td>21.169591</td>\n      <td>20.020488</td>\n      <td>148.660000</td>\n      <td>72.949339</td>\n      <td>80.221424</td>\n    </tr>\n    <tr>\n      <th>2481</th>\n      <td>2023-04-26 10:00:00</td>\n      <td>29.808986</td>\n      <td>29.753770</td>\n      <td>29.733143</td>\n      <td>29.642197</td>\n      <td>27.504058</td>\n      <td>C</td>\n      <td>53.333333</td>\n      <td>163.595012</td>\n      <td>30.312167</td>\n      <td>...</td>\n      <td>30.299081</td>\n      <td>30.345990</td>\n      <td>26.939494</td>\n      <td>89.575858</td>\n      <td>20.567901</td>\n      <td>20.000000</td>\n      <td>20.473037</td>\n      <td>128.513333</td>\n      <td>49.403583</td>\n      <td>108.212920</td>\n    </tr>\n  </tbody>\n</table>\n<p>74460 rows × 24 columns</p>\n</div>"
     },
     "execution_count": 57,
     "metadata": {},
     "output_type": "execute_result"
    }
   ],
   "source": [
    "train"
   ],
   "metadata": {
    "collapsed": false,
    "ExecuteTime": {
     "end_time": "2023-09-09T19:34:08.554040200Z",
     "start_time": "2023-09-09T19:34:08.436881700Z"
    }
   },
   "id": "f7efb1cab280396d"
  },
  {
   "cell_type": "code",
   "execution_count": 59,
   "outputs": [],
   "source": [
    "all_days_grads = []\n",
    "for day in range(len((train.date.unique()))): # len((train.date.unique()))\n",
    "   data = train.loc[day, :]\n",
    "   \n",
    "   state = (\n",
    "    [50]\n",
    "    + data.close.values.tolist()\n",
    "    + num_stock_shares\n",
    "    + sum(\n",
    "        (\n",
    "            data[tech].values.tolist()\n",
    "            for tech in INDICATORS\n",
    "        ),\n",
    "        [],\n",
    "    )\n",
    "    + sum(\n",
    "    (\n",
    "        data[sent].values.tolist()\n",
    "        for sent in SENTIMENT\n",
    "    ),\n",
    "    [],\n",
    ")\n",
    "    + data.change.values.tolist()\n",
    "    + data.volume.values.tolist())\n",
    "   \n",
    "   #print(state)\n",
    "   xs = tf.convert_to_tensor([state])\n",
    "   with tf.GradientTape() as tape:\n",
    "        tape.watch(xs)\n",
    "        pred = model_loaded(xs)\n",
    "        grads = tape.gradient(pred, xs)\n",
    "   grads = grads.numpy()\n",
    "   abs_grads_sum = np.sum(np.abs(grads), axis=0)\n",
    "   all_days_grads.append(abs_grads_sum)"
   ],
   "metadata": {
    "collapsed": false,
    "ExecuteTime": {
     "end_time": "2023-09-09T19:35:00.836347600Z",
     "start_time": "2023-09-09T19:34:38.636568Z"
    }
   },
   "id": "b067c0f95b69c50f"
  },
  {
   "cell_type": "code",
   "execution_count": null,
   "outputs": [],
   "source": [
    "all_days_grads"
   ],
   "metadata": {
    "collapsed": false,
    "ExecuteTime": {
     "start_time": "2023-09-09T19:35:31.111483200Z"
    }
   },
   "id": "a90b6f58b1425f04"
  },
  {
   "cell_type": "code",
   "execution_count": 32,
   "outputs": [],
   "source": [
    "import matplotlib\n",
    "matplotlib.use('TkAgg')  # or another appropriate backend like 'Qt5Agg'\n",
    "import matplotlib.pyplot as plt\n",
    "import seaborn as sns"
   ],
   "metadata": {
    "collapsed": false,
    "ExecuteTime": {
     "end_time": "2023-09-09T19:25:57.407576800Z",
     "start_time": "2023-09-09T19:25:57.252797800Z"
    }
   },
   "id": "c5795c6f6f6b85e3"
  },
  {
   "cell_type": "code",
   "execution_count": 1,
   "outputs": [
    {
     "ename": "NameError",
     "evalue": "name 'plt' is not defined",
     "output_type": "error",
     "traceback": [
      "\u001B[1;31m---------------------------------------------------------------------------\u001B[0m",
      "\u001B[1;31mNameError\u001B[0m                                 Traceback (most recent call last)",
      "Cell \u001B[1;32mIn[1], line 2\u001B[0m\n\u001B[0;32m      1\u001B[0m \u001B[38;5;66;03m# Create a heatmap\u001B[39;00m\n\u001B[1;32m----> 2\u001B[0m \u001B[43mplt\u001B[49m\u001B[38;5;241m.\u001B[39mfigure(figsize\u001B[38;5;241m=\u001B[39m(\u001B[38;5;241m10\u001B[39m, \u001B[38;5;241m10\u001B[39m))\n\u001B[0;32m      3\u001B[0m sns\u001B[38;5;241m.\u001B[39mheatmap(all_days_grads, cmap\u001B[38;5;241m=\u001B[39m\u001B[38;5;124m\"\u001B[39m\u001B[38;5;124mYlGnBu\u001B[39m\u001B[38;5;124m\"\u001B[39m, cbar\u001B[38;5;241m=\u001B[39m\u001B[38;5;28;01mTrue\u001B[39;00m)\n\u001B[0;32m      5\u001B[0m \u001B[38;5;66;03m# Display the plot\u001B[39;00m\n",
      "\u001B[1;31mNameError\u001B[0m: name 'plt' is not defined"
     ]
    }
   ],
   "source": [
    "# Create a heatmap\n",
    "plt.figure(figsize=(10, 10))\n",
    "sns.heatmap(all_days_grads, cmap=\"YlGnBu\", cbar=True)\n",
    "\n",
    "# Display the plot\n",
    "plt.title('Heatmap of all_days_grads')\n",
    "plt.xlabel('Index within each sublist')\n",
    "plt.ylabel('List index')\n",
    "plt.show()"
   ],
   "metadata": {
    "collapsed": false,
    "ExecuteTime": {
     "end_time": "2023-09-09T19:26:29.263049300Z",
     "start_time": "2023-09-09T19:26:29.030009100Z"
    }
   },
   "id": "c703e60e3e3404e3"
  },
  {
   "cell_type": "code",
   "execution_count": 48,
   "outputs": [
    {
     "data": {
      "text/plain": "421"
     },
     "execution_count": 48,
     "metadata": {},
     "output_type": "execute_result"
    }
   ],
   "source": [
    "len(state)"
   ],
   "metadata": {
    "collapsed": false,
    "ExecuteTime": {
     "end_time": "2023-09-09T18:17:15.446597300Z",
     "start_time": "2023-09-09T18:17:15.379869100Z"
    }
   },
   "id": "b1016ed107134792"
  },
  {
   "cell_type": "code",
   "execution_count": 53,
   "outputs": [],
   "source": [
    "sums = [sum(day[i] for day in all_days_grads) for i in range(421)]\n",
    "import matplotlib.pyplot as plt\n",
    "\n",
    "plt.figure(figsize=(15, 6))\n",
    "plt.bar(range(421), sums)\n",
    "plt.title('Sum of values at each index across all days')\n",
    "plt.xlabel('Index')\n",
    "plt.ylabel('Sum')\n",
    "plt.show()\n"
   ],
   "metadata": {
    "collapsed": false,
    "ExecuteTime": {
     "end_time": "2023-09-09T19:00:27.509801700Z",
     "start_time": "2023-09-09T18:26:07.405433800Z"
    }
   },
   "id": "f092a2f6ea2fdcbd"
  },
  {
   "cell_type": "code",
   "execution_count": null,
   "outputs": [],
   "source": [],
   "metadata": {
    "collapsed": false
   },
   "id": "8877c614c4609c08"
  }
 ],
 "metadata": {
  "kernelspec": {
   "display_name": "Python 3",
   "language": "python",
   "name": "python3"
  },
  "language_info": {
   "codemirror_mode": {
    "name": "ipython",
    "version": 2
   },
   "file_extension": ".py",
   "mimetype": "text/x-python",
   "name": "python",
   "nbconvert_exporter": "python",
   "pygments_lexer": "ipython2",
   "version": "2.7.6"
  }
 },
 "nbformat": 4,
 "nbformat_minor": 5
}
