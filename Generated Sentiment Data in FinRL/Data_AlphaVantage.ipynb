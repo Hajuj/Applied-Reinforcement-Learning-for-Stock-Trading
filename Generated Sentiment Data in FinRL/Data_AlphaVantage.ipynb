{
 "cells": [
  {
   "cell_type": "markdown",
   "id": "d7919430",
   "metadata": {},
   "source": [
    "### Yahoo Downloader\n",
    "\n",
    "Get all symbols via pytickersymbols"
   ]
  },
  {
   "cell_type": "code",
   "execution_count": 30,
   "id": "db5960cc",
   "metadata": {
    "ExecuteTime": {
     "end_time": "2023-08-31T20:04:57.647533Z",
     "start_time": "2023-08-31T20:04:57.642481Z"
    }
   },
   "outputs": [],
   "source": [
    "import requests\n",
    "import csv\n",
    "import os"
   ]
  },
  {
   "cell_type": "code",
   "execution_count": 33,
   "outputs": [],
   "source": [
    "best_stocks = ['NVDA', 'DIS', 'IBM', 'LVMUY', 'KO', 'INTC', 'MO', 'UNH', 'BABA', 'MA', 'RHHBY', 'V', 'HD', 'JPM', 'QCOM', 'XOM', 'PG', 'NSRGY', 'BRK.B', 'TSM', 'JNJ', 'KRX:005930', 'FB', 'WMT', 'TSLA', 'TCEHY', 'GOOGL', 'AMZN', 'MSFT', 'AAPL']"
   ],
   "metadata": {
    "collapsed": false,
    "ExecuteTime": {
     "end_time": "2023-08-31T20:09:10.630053Z",
     "start_time": "2023-08-31T20:09:10.618917Z"
    }
   },
   "id": "2e96fec31eae5ea3"
  },
  {
   "cell_type": "markdown",
   "id": "b2c14313",
   "metadata": {},
   "source": [
    "### Alpha Vantage API:"
   ]
  },
  {
   "cell_type": "code",
   "execution_count": 41,
   "id": "5267f070",
   "metadata": {
    "ExecuteTime": {
     "end_time": "2023-08-31T20:22:47.022215Z",
     "start_time": "2023-08-31T20:22:24.978266Z"
    }
   },
   "outputs": [
    {
     "name": "stdout",
     "output_type": "stream",
     "text": [
      "Data for NVDA saved to stocks_data/NVDA.csv\n",
      "Data for DIS saved to stocks_data/DIS.csv\n",
      "Data for IBM saved to stocks_data/IBM.csv\n",
      "Data for LVMUY saved to stocks_data/LVMUY.csv\n",
      "Data for KO saved to stocks_data/KO.csv\n",
      "Data for INTC saved to stocks_data/INTC.csv\n",
      "Data for MO saved to stocks_data/MO.csv\n",
      "Data for UNH saved to stocks_data/UNH.csv\n",
      "Data for BABA saved to stocks_data/BABA.csv\n",
      "Data for MA saved to stocks_data/MA.csv\n",
      "Data for RHHBY saved to stocks_data/RHHBY.csv\n",
      "Data for V saved to stocks_data/V.csv\n",
      "Data for HD saved to stocks_data/HD.csv\n",
      "Data for JPM saved to stocks_data/JPM.csv\n",
      "Data for QCOM saved to stocks_data/QCOM.csv\n",
      "Data for XOM saved to stocks_data/XOM.csv\n",
      "Data for PG saved to stocks_data/PG.csv\n",
      "Data for NSRGY saved to stocks_data/NSRGY.csv\n",
      "Data for BRK.B saved to stocks_data/BRK.B.csv\n",
      "Data for TSM saved to stocks_data/TSM.csv\n",
      "Data for JNJ saved to stocks_data/JNJ.csv\n",
      "Data for KRX:005930 saved to stocks_data/KRX:005930.csv\n",
      "Data for FB saved to stocks_data/FB.csv\n",
      "Data for WMT saved to stocks_data/WMT.csv\n",
      "Data for TSLA saved to stocks_data/TSLA.csv\n",
      "Data for TCEHY saved to stocks_data/TCEHY.csv\n",
      "Data for GOOGL saved to stocks_data/GOOGL.csv\n",
      "Data for AMZN saved to stocks_data/AMZN.csv\n",
      "Data for MSFT saved to stocks_data/MSFT.csv\n",
      "Data for AAPL saved to stocks_data/AAPL.csv\n"
     ]
    }
   ],
   "source": [
    "# Create a directory named 'stocks_data' if it doesn't exist\n",
    "folder_name = \"stocks_data\"\n",
    "if not os.path.exists(folder_name):\n",
    "    os.makedirs(folder_name)\n",
    "    \n",
    "desired_times = [\"09:30:00\", \"10:00:00\", \"11:00:00\", \"12:00:00\", \"13:00:00\", \"14:00:00\", \"15:00:00\"]\n",
    "    \n",
    "for stock in best_stocks:\n",
    "    url = 'https://www.alphavantage.co/query?function=TIME_SERIES_INTRADAY&symbol=' + stock + '&interval=30min&extended_hours=false&apikey=J2KWBMQJTFXBCSEB'\n",
    "    r = requests.get(url)\n",
    "    data = r.json()\n",
    "\n",
    "    # Extract the time series data\n",
    "    time_series_data = data.get(\"Time Series (30min)\", {})\n",
    "    \n",
    "    # Filter data for the desired timestamps\n",
    "    filtered_data = {k: v for k, v in time_series_data.items() if k.split(\" \")[1] in desired_times}\n",
    "\n",
    "    # Create or overwrite a CSV file for each stock inside the 'stocks_data' folder\n",
    "    file_path = os.path.join(folder_name, f\"{stock}.csv\")\n",
    "    with open(file_path, \"w\", newline='') as csvfile:\n",
    "        csvwriter = csv.writer(csvfile)\n",
    "        \n",
    "        # Write the header\n",
    "        csvwriter.writerow([\"Time\", \"Open\", \"High\", \"Low\", \"Close\", \"Volume\"])\n",
    "        \n",
    "        # Write the filtered data\n",
    "        for time, values in filtered_data.items():\n",
    "            # Rename 09:30:00 to 09:00:00\n",
    "            if time.split(\" \")[1] == \"09:30:00\":\n",
    "                time = time.replace(\"09:30:00\", \"09:00:00\")\n",
    "            csvwriter.writerow([time, values[\"1. open\"], values[\"2. high\"], values[\"3. low\"], values[\"4. close\"], values[\"5. volume\"]])\n",
    "\n",
    "    print(f\"Data for {stock} saved to {file_path}\")\n"
   ]
  },
  {
   "cell_type": "code",
   "execution_count": null,
   "outputs": [],
   "source": [],
   "metadata": {
    "collapsed": false
   },
   "id": "a099278448900fde"
  }
 ],
 "metadata": {
  "kernelspec": {
   "name": "python3",
   "language": "python",
   "display_name": "Python 3 (ipykernel)"
  },
  "language_info": {
   "codemirror_mode": {
    "name": "ipython",
    "version": 3
   },
   "file_extension": ".py",
   "mimetype": "text/x-python",
   "name": "python",
   "nbconvert_exporter": "python",
   "pygments_lexer": "ipython3",
   "version": "3.10.11"
  }
 },
 "nbformat": 4,
 "nbformat_minor": 5
}
